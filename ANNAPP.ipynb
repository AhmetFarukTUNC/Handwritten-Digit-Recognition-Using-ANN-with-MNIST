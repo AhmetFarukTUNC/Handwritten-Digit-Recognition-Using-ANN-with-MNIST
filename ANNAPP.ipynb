{
  "nbformat": 4,
  "nbformat_minor": 0,
  "metadata": {
    "colab": {
      "provenance": []
    },
    "kernelspec": {
      "name": "python3",
      "display_name": "Python 3"
    },
    "language_info": {
      "name": "python"
    }
  },
  "cells": [
    {
      "cell_type": "markdown",
      "source": [
        "# Colab Test Etme"
      ],
      "metadata": {
        "id": "EZpXVbCTEr5s"
      }
    },
    {
      "cell_type": "code",
      "execution_count": null,
      "metadata": {
        "id": "97MiCePGFeG0",
        "outputId": "eb6e93d3-5f35-4ea5-8eb3-6ee8db18eefe",
        "colab": {
          "base_uri": "https://localhost:8080/"
        }
      },
      "outputs": [
        {
          "output_type": "stream",
          "name": "stdout",
          "text": [
            "hello world\n"
          ]
        }
      ],
      "source": [
        "print(\"hello world\")"
      ]
    },
    {
      "cell_type": "markdown",
      "source": [
        "# **TENSORFLOW KÜTÜPHANESİNİN YÜKLENMESİ**"
      ],
      "metadata": {
        "id": "3k1AOpqGE0bq"
      }
    },
    {
      "cell_type": "code",
      "source": [
        "pip install tensorflow"
      ],
      "metadata": {
        "colab": {
          "base_uri": "https://localhost:8080/"
        },
        "id": "a7lICgjgEhBt",
        "outputId": "752bd375-36a0-4c4d-cbd4-2b5938cb661f"
      },
      "execution_count": null,
      "outputs": [
        {
          "output_type": "stream",
          "name": "stdout",
          "text": [
            "Requirement already satisfied: tensorflow in /usr/local/lib/python3.10/dist-packages (2.17.0)\n",
            "Requirement already satisfied: absl-py>=1.0.0 in /usr/local/lib/python3.10/dist-packages (from tensorflow) (1.4.0)\n",
            "Requirement already satisfied: astunparse>=1.6.0 in /usr/local/lib/python3.10/dist-packages (from tensorflow) (1.6.3)\n",
            "Requirement already satisfied: flatbuffers>=24.3.25 in /usr/local/lib/python3.10/dist-packages (from tensorflow) (24.3.25)\n",
            "Requirement already satisfied: gast!=0.5.0,!=0.5.1,!=0.5.2,>=0.2.1 in /usr/local/lib/python3.10/dist-packages (from tensorflow) (0.6.0)\n",
            "Requirement already satisfied: google-pasta>=0.1.1 in /usr/local/lib/python3.10/dist-packages (from tensorflow) (0.2.0)\n",
            "Requirement already satisfied: h5py>=3.10.0 in /usr/local/lib/python3.10/dist-packages (from tensorflow) (3.12.1)\n",
            "Requirement already satisfied: libclang>=13.0.0 in /usr/local/lib/python3.10/dist-packages (from tensorflow) (18.1.1)\n",
            "Requirement already satisfied: ml-dtypes<0.5.0,>=0.3.1 in /usr/local/lib/python3.10/dist-packages (from tensorflow) (0.4.1)\n",
            "Requirement already satisfied: opt-einsum>=2.3.2 in /usr/local/lib/python3.10/dist-packages (from tensorflow) (3.4.0)\n",
            "Requirement already satisfied: packaging in /usr/local/lib/python3.10/dist-packages (from tensorflow) (24.1)\n",
            "Requirement already satisfied: protobuf!=4.21.0,!=4.21.1,!=4.21.2,!=4.21.3,!=4.21.4,!=4.21.5,<5.0.0dev,>=3.20.3 in /usr/local/lib/python3.10/dist-packages (from tensorflow) (3.20.3)\n",
            "Requirement already satisfied: requests<3,>=2.21.0 in /usr/local/lib/python3.10/dist-packages (from tensorflow) (2.32.3)\n",
            "Requirement already satisfied: setuptools in /usr/local/lib/python3.10/dist-packages (from tensorflow) (75.1.0)\n",
            "Requirement already satisfied: six>=1.12.0 in /usr/local/lib/python3.10/dist-packages (from tensorflow) (1.16.0)\n",
            "Requirement already satisfied: termcolor>=1.1.0 in /usr/local/lib/python3.10/dist-packages (from tensorflow) (2.5.0)\n",
            "Requirement already satisfied: typing-extensions>=3.6.6 in /usr/local/lib/python3.10/dist-packages (from tensorflow) (4.12.2)\n",
            "Requirement already satisfied: wrapt>=1.11.0 in /usr/local/lib/python3.10/dist-packages (from tensorflow) (1.16.0)\n",
            "Requirement already satisfied: grpcio<2.0,>=1.24.3 in /usr/local/lib/python3.10/dist-packages (from tensorflow) (1.64.1)\n",
            "Requirement already satisfied: tensorboard<2.18,>=2.17 in /usr/local/lib/python3.10/dist-packages (from tensorflow) (2.17.0)\n",
            "Requirement already satisfied: keras>=3.2.0 in /usr/local/lib/python3.10/dist-packages (from tensorflow) (3.4.1)\n",
            "Requirement already satisfied: tensorflow-io-gcs-filesystem>=0.23.1 in /usr/local/lib/python3.10/dist-packages (from tensorflow) (0.37.1)\n",
            "Requirement already satisfied: numpy<2.0.0,>=1.23.5 in /usr/local/lib/python3.10/dist-packages (from tensorflow) (1.26.4)\n",
            "Requirement already satisfied: wheel<1.0,>=0.23.0 in /usr/local/lib/python3.10/dist-packages (from astunparse>=1.6.0->tensorflow) (0.44.0)\n",
            "Requirement already satisfied: rich in /usr/local/lib/python3.10/dist-packages (from keras>=3.2.0->tensorflow) (13.9.3)\n",
            "Requirement already satisfied: namex in /usr/local/lib/python3.10/dist-packages (from keras>=3.2.0->tensorflow) (0.0.8)\n",
            "Requirement already satisfied: optree in /usr/local/lib/python3.10/dist-packages (from keras>=3.2.0->tensorflow) (0.13.0)\n",
            "Requirement already satisfied: charset-normalizer<4,>=2 in /usr/local/lib/python3.10/dist-packages (from requests<3,>=2.21.0->tensorflow) (3.4.0)\n",
            "Requirement already satisfied: idna<4,>=2.5 in /usr/local/lib/python3.10/dist-packages (from requests<3,>=2.21.0->tensorflow) (3.10)\n",
            "Requirement already satisfied: urllib3<3,>=1.21.1 in /usr/local/lib/python3.10/dist-packages (from requests<3,>=2.21.0->tensorflow) (2.2.3)\n",
            "Requirement already satisfied: certifi>=2017.4.17 in /usr/local/lib/python3.10/dist-packages (from requests<3,>=2.21.0->tensorflow) (2024.8.30)\n",
            "Requirement already satisfied: markdown>=2.6.8 in /usr/local/lib/python3.10/dist-packages (from tensorboard<2.18,>=2.17->tensorflow) (3.7)\n",
            "Requirement already satisfied: tensorboard-data-server<0.8.0,>=0.7.0 in /usr/local/lib/python3.10/dist-packages (from tensorboard<2.18,>=2.17->tensorflow) (0.7.2)\n",
            "Requirement already satisfied: werkzeug>=1.0.1 in /usr/local/lib/python3.10/dist-packages (from tensorboard<2.18,>=2.17->tensorflow) (3.0.6)\n",
            "Requirement already satisfied: MarkupSafe>=2.1.1 in /usr/local/lib/python3.10/dist-packages (from werkzeug>=1.0.1->tensorboard<2.18,>=2.17->tensorflow) (3.0.2)\n",
            "Requirement already satisfied: markdown-it-py>=2.2.0 in /usr/local/lib/python3.10/dist-packages (from rich->keras>=3.2.0->tensorflow) (3.0.0)\n",
            "Requirement already satisfied: pygments<3.0.0,>=2.13.0 in /usr/local/lib/python3.10/dist-packages (from rich->keras>=3.2.0->tensorflow) (2.18.0)\n",
            "Requirement already satisfied: mdurl~=0.1 in /usr/local/lib/python3.10/dist-packages (from markdown-it-py>=2.2.0->rich->keras>=3.2.0->tensorflow) (0.1.2)\n"
          ]
        }
      ]
    },
    {
      "cell_type": "markdown",
      "source": [
        "# **GEREKLİ KÜTÜPHANELERİN İMPORT EDİLMESİ*"
      ],
      "metadata": {
        "id": "EEPDdNaAFSDs"
      }
    },
    {
      "cell_type": "code",
      "source": [
        "import tensorflow as tf\n",
        "\n",
        "from tensorflow.keras.datasets import mnist\n",
        "\n",
        "from tensorflow.keras.models import load_model,Sequential\n",
        "\n",
        "\n",
        "from tensorflow.keras.layers import Dense,Flatten\n",
        "\n",
        "from tensorflow.keras.utils import to_categorical,plot_model\n",
        "\n",
        "import matplotlib.pyplot as plt\n",
        "\n",
        "import numpy as np\n",
        "\n",
        "import warnings\n",
        "\n",
        "from warnings import filterwarnings\n",
        "\n",
        "warnings.filterwarnings(\"ignore\",category=DeprecationWarning)\n",
        "\n",
        "warnings.filterwarnings(\"ignore\",category=FutureWarning)\n",
        "\n",
        "warnings.filterwarnings(\"ignore\",category=UserWarning)\n",
        "\n",
        "filterwarnings(\"ignore\")"
      ],
      "metadata": {
        "id": "5Gd6GmYzFeq2"
      },
      "execution_count": null,
      "outputs": []
    },
    {
      "cell_type": "markdown",
      "source": [
        "# **MNIST VERİ SETİNİN YÜKLENMESİ**\n",
        "\n",
        "\n",
        "\n",
        "\n",
        "\n"
      ],
      "metadata": {
        "id": "Gbs32PW7HTgw"
      }
    },
    {
      "cell_type": "code",
      "source": [
        "(x_train,y_train),(x_test,y_test) = mnist.load_data()"
      ],
      "metadata": {
        "id": "E3WRlQZUHb7M",
        "colab": {
          "base_uri": "https://localhost:8080/"
        },
        "outputId": "9c11a144-d424-4989-aa12-97eebc306f08"
      },
      "execution_count": null,
      "outputs": [
        {
          "output_type": "stream",
          "name": "stdout",
          "text": [
            "Downloading data from https://storage.googleapis.com/tensorflow/tf-keras-datasets/mnist.npz\n",
            "\u001b[1m11490434/11490434\u001b[0m \u001b[32m━━━━━━━━━━━━━━━━━━━━\u001b[0m\u001b[37m\u001b[0m \u001b[1m0s\u001b[0m 0us/step\n"
          ]
        }
      ]
    },
    {
      "cell_type": "markdown",
      "source": [
        "# **VERİ SETİNİN BOYUTU**"
      ],
      "metadata": {
        "id": "Bv2HqWdaH0TZ"
      }
    },
    {
      "cell_type": "code",
      "source": [
        "print(\"Eğitim Veri Boyutu :\",x_train.shape,y_train.shape)"
      ],
      "metadata": {
        "colab": {
          "base_uri": "https://localhost:8080/"
        },
        "id": "PVz-JJbgH7NC",
        "outputId": "40f5a4d4-2935-4b5a-d979-a0e6a75ca045"
      },
      "execution_count": null,
      "outputs": [
        {
          "output_type": "stream",
          "name": "stdout",
          "text": [
            "Eğitim Veri Boyutu : (60000, 28, 28) (60000,)\n"
          ]
        }
      ]
    },
    {
      "cell_type": "markdown",
      "source": [
        "# **Eğitim Seti Hedef Değişken Sayısı**"
      ],
      "metadata": {
        "id": "NdswrNShIgRT"
      }
    },
    {
      "cell_type": "code",
      "source": [
        "num_labels = len(np.unique(y_train))\n",
        "\n",
        "num_labels"
      ],
      "metadata": {
        "colab": {
          "base_uri": "https://localhost:8080/"
        },
        "id": "IRNYfXYiInnE",
        "outputId": "335188ce-d8ba-4edc-e19e-b06023ff8363"
      },
      "execution_count": null,
      "outputs": [
        {
          "output_type": "execute_result",
          "data": {
            "text/plain": [
              "10"
            ]
          },
          "metadata": {},
          "execution_count": 6
        }
      ]
    },
    {
      "cell_type": "markdown",
      "source": [
        "# **Veri Setinin Bir Kısmının Grafik üzerinde gösterilmesi**"
      ],
      "metadata": {
        "id": "U_oxShlII4vX"
      }
    },
    {
      "cell_type": "code",
      "source": [
        "plt.figure(figsize=(10,10))\n",
        "\n",
        "plt.imshow(x_train[2],cmap=\"gray\")\n"
      ],
      "metadata": {
        "colab": {
          "base_uri": "https://localhost:8080/",
          "height": 661
        },
        "id": "2rUXbARuJGDg",
        "outputId": "65365221-983d-4dc6-e5c7-00578b2ef682"
      },
      "execution_count": null,
      "outputs": [
        {
          "output_type": "execute_result",
          "data": {
            "text/plain": [
              "<matplotlib.image.AxesImage at 0x7d37a01301f0>"
            ]
          },
          "metadata": {},
          "execution_count": 7
        },
        {
          "output_type": "display_data",
          "data": {
            "text/plain": [
              "<Figure size 1000x1000 with 1 Axes>"
            ],
            "image/png": "[encoded data removed]"
          },
          "metadata": {}
        }
      ]
    },
    {
      "cell_type": "markdown",
      "source": [
        "# **İlk 10 Verinin Gösterilmesi**"
      ],
      "metadata": {
        "id": "7cz5nSsUJnfW"
      }
    },
    {
      "cell_type": "code",
      "source": [
        "plt.figure(figsize=(10,10))\n",
        "for i in range(10):\n",
        "\n",
        "   ax = plt.subplot(5,5,i+1)\n",
        "\n",
        "\n",
        "   plt.imshow(x_train[i],cmap=\"gray\")\n",
        "\n",
        "   plt.axis(\"off\")\n",
        "\n"
      ],
      "metadata": {
        "colab": {
          "base_uri": "https://localhost:8080/",
          "height": 264
        },
        "id": "8ZBsnax-JtK0",
        "outputId": "d36ff12d-abd3-4b19-8b80-75c3c3499adb"
      },
      "execution_count": null,
      "outputs": [
        {
          "output_type": "display_data",
          "data": {
            "text/plain": [
              "<Figure size 1000x1000 with 10 Axes>"
            ],
            "image/png": "[encoded data removed]"
          },
          "metadata": {}
        }
      ]
    },
    {
      "cell_type": "markdown",
      "source": [
        "# **Resim Göstermenin Fonksiyon Haline Getirilmesi**"
      ],
      "metadata": {
        "id": "u5mltVkIKwMi"
      }
    },
    {
      "cell_type": "code",
      "source": [
        "def visualize_img(data):\n",
        "\n",
        "  plt.figure(figsize=(10,10))\n",
        "  for i in range(10):\n",
        "\n",
        "    ax = plt.subplot(5,5,i+1)\n",
        "\n",
        "\n",
        "    plt.imshow(data[i],cmap=\"gray\")\n",
        "\n",
        "    plt.axis(\"off\")\n",
        "\n",
        "visualize_img(x_train)\n",
        "\n",
        "visualize_img(x_test)"
      ],
      "metadata": {
        "colab": {
          "base_uri": "https://localhost:8080/",
          "height": 512
        },
        "id": "4hZ4uPCNK3nK",
        "outputId": "3b8531c3-74a6-4570-8adc-d38df780b8b5"
      },
      "execution_count": null,
      "outputs": [
        {
          "output_type": "display_data",
          "data": {
            "text/plain": [
              "<Figure size 1000x1000 with 10 Axes>"
            ],
            "image/png": "[encoded data removed]"
          },
          "metadata": {}
        },
        {
          "output_type": "display_data",
          "data": {
            "text/plain": [
              "<Figure size 1000x1000 with 10 Axes>"
            ],
            "image/png": "[encoded data removed]"
          },
          "metadata": {}
        }
      ]
    },
    {
      "cell_type": "markdown",
      "source": [
        "# **RGB RENK SKALASI**"
      ],
      "metadata": {
        "id": "FWsWJAeSp2qq"
      }
    },
    {
      "cell_type": "code",
      "source": [
        "#RGB(0-255)\n",
        "\n",
        "# R:250 G:10 B:240 => koyu mor\n",
        "\n",
        "\n",
        "\n"
      ],
      "metadata": {
        "id": "2m5RKuBopCJA"
      },
      "execution_count": null,
      "outputs": []
    },
    {
      "cell_type": "markdown",
      "source": [
        "# **X TRAİN 3 BOYUTU**"
      ],
      "metadata": {
        "id": "Uca_bQH9p-rM"
      }
    },
    {
      "cell_type": "code",
      "source": [
        "x_train[3].shape"
      ],
      "metadata": {
        "colab": {
          "base_uri": "https://localhost:8080/"
        },
        "id": "ct-46DmvqE4_",
        "outputId": "50754dcb-92f7-4cbe-818c-7137e6558a64"
      },
      "execution_count": null,
      "outputs": [
        {
          "output_type": "execute_result",
          "data": {
            "text/plain": [
              "(28, 28)"
            ]
          },
          "metadata": {},
          "execution_count": 11
        }
      ]
    },
    {
      "cell_type": "markdown",
      "source": [
        "# **VERİYİ DAHA İYİ ANLAMAK İÇİN 4.RESMİN 10.SATIR VE 10. SÜTUNDAKİ DEĞERİNİ GÖR**"
      ],
      "metadata": {
        "id": "M03PQoueqiH6"
      }
    },
    {
      "cell_type": "code",
      "source": [
        "x_train[3][10,10]"
      ],
      "metadata": {
        "colab": {
          "base_uri": "https://localhost:8080/"
        },
        "id": "hQy9VxnVrEJa",
        "outputId": "a2c130f0-b3bf-4a53-ff44-208529510e94"
      },
      "execution_count": null,
      "outputs": [
        {
          "output_type": "execute_result",
          "data": {
            "text/plain": [
              "0"
            ]
          },
          "metadata": {},
          "execution_count": 12
        }
      ]
    },
    {
      "cell_type": "markdown",
      "source": [
        "# **4.RESMİN ORTALAMASINI ALMA**"
      ],
      "metadata": {
        "id": "tFekc-jsrj7N"
      }
    },
    {
      "cell_type": "code",
      "source": [
        "x_train[3].mean()"
      ],
      "metadata": {
        "colab": {
          "base_uri": "https://localhost:8080/"
        },
        "id": "-OPJEpPGrpkk",
        "outputId": "d79eeea9-0f81-45e3-8d57-6de126f5a42a"
      },
      "execution_count": null,
      "outputs": [
        {
          "output_type": "execute_result",
          "data": {
            "text/plain": [
              "21.855867346938776"
            ]
          },
          "metadata": {},
          "execution_count": 13
        }
      ]
    },
    {
      "cell_type": "markdown",
      "source": [
        "# **4.RESİM İÇİN BELLİ BİR BÖLGENİN ORTALAMASINI ALMA**"
      ],
      "metadata": {
        "id": "fJ3GVkjgsCSX"
      }
    },
    {
      "cell_type": "code",
      "source": [
        "x_train[3][14:20,10:20].mean()"
      ],
      "metadata": {
        "colab": {
          "base_uri": "https://localhost:8080/"
        },
        "id": "Ntciw_8OsH85",
        "outputId": "53f3786e-6225-4690-ce5a-50142ad5e2c0"
      },
      "execution_count": null,
      "outputs": [
        {
          "output_type": "execute_result",
          "data": {
            "text/plain": [
              "90.18333333333334"
            ]
          },
          "metadata": {},
          "execution_count": 14
        }
      ]
    },
    {
      "cell_type": "markdown",
      "source": [
        "# **4 NUMARALI RESMİ PİXELDEN RESME ÇEVİRME**"
      ],
      "metadata": {
        "id": "29Pz_Gk2swdt"
      }
    },
    {
      "cell_type": "markdown",
      "source": [
        "# **BU İŞLEMİN FONKSİYON OLARAK TANIMI**"
      ],
      "metadata": {
        "id": "RDiXXbsFuTAg"
      }
    },
    {
      "cell_type": "code",
      "source": [
        "def pixel_visualize(img):\n",
        "  fig = plt.figure(figsize=(12,12))\n",
        "  ax = fig.add_subplot(111)\n",
        "  ax.imshow(img,cmap=\"gray\")\n",
        "  width,height = img.shape\n",
        "  threshold = img.max() / 2.5\n",
        "  for i in range(width):\n",
        "    for j in range(height):\n",
        "      ax.annotate(str(round(img[i][j] , 2)),xy = (j,i),\n",
        "                  color = \"white\" if img[i][j]<threshold\n",
        "                  else \"black\")\n",
        "\n",
        "\n"
      ],
      "metadata": {
        "id": "CWuwPV5bs2d7"
      },
      "execution_count": null,
      "outputs": []
    },
    {
      "cell_type": "markdown",
      "source": [
        "# **BU FONKSİYONUN ÇAĞRILIP İŞLEMİN TAMAMLANMASI**"
      ],
      "metadata": {
        "id": "zwNowXlWuYcE"
      }
    },
    {
      "cell_type": "code",
      "source": [
        "pixel_visualize(x_train[3])"
      ],
      "metadata": {
        "colab": {
          "base_uri": "https://localhost:8080/",
          "height": 644
        },
        "id": "fDPBd7P3ugbh",
        "outputId": "604ff56f-643a-4d20-945f-b4e0b486d4fe"
      },
      "execution_count": null,
      "outputs": [
        {
          "output_type": "display_data",
          "data": {
            "text/plain": [
              "<Figure size 1200x1200 with 1 Axes>"
            ],
            "image/png": "[encoded data removed]"
          },
          "metadata": {}
        }
      ]
    },
    {
      "cell_type": "markdown",
      "source": [
        "# **ENCODİNG**\n",
        "\n",
        "# ÖNCE : 0 1 2 3 4 5 6 7 8 9\n",
        "\n",
        "# SONRA : 0 0 1 0 0 0 0 0 0"
      ],
      "metadata": {
        "id": "EN0HpTLPvksh"
      }
    },
    {
      "cell_type": "code",
      "source": [
        "y_train[0:5]"
      ],
      "metadata": {
        "colab": {
          "base_uri": "https://localhost:8080/"
        },
        "id": "POsoJH6KyvYg",
        "outputId": "c9993e3a-d24d-4054-c3f4-dd0806676047"
      },
      "execution_count": null,
      "outputs": [
        {
          "output_type": "execute_result",
          "data": {
            "text/plain": [
              "array([5, 0, 4, 1, 9], dtype=uint8)"
            ]
          },
          "metadata": {},
          "execution_count": 17
        }
      ]
    },
    {
      "cell_type": "code",
      "source": [
        "y_train = to_categorical(y_train)\n",
        "\n",
        "y_test = to_categorical(y_test)\n",
        "\n",
        "y_train[0:5]\n",
        "\n"
      ],
      "metadata": {
        "colab": {
          "base_uri": "https://localhost:8080/"
        },
        "id": "QLoSkbASv0-V",
        "outputId": "19baf0d4-7310-48a9-e7cd-7bcbd83da4f4"
      },
      "execution_count": null,
      "outputs": [
        {
          "output_type": "execute_result",
          "data": {
            "text/plain": [
              "array([[0., 0., 0., 0., 0., 1., 0., 0., 0., 0.],\n",
              "       [1., 0., 0., 0., 0., 0., 0., 0., 0., 0.],\n",
              "       [0., 0., 0., 0., 1., 0., 0., 0., 0., 0.],\n",
              "       [0., 1., 0., 0., 0., 0., 0., 0., 0., 0.],\n",
              "       [0., 0., 0., 0., 0., 0., 0., 0., 0., 1.]])"
            ]
          },
          "metadata": {},
          "execution_count": 18
        }
      ]
    },
    {
      "cell_type": "markdown",
      "source": [
        "# **RESHAPİNG**"
      ],
      "metadata": {
        "id": "YXCUf_RjvrDL"
      }
    },
    {
      "cell_type": "code",
      "source": [
        "image_size = x_train.shape[1]"
      ],
      "metadata": {
        "id": "HlXCuUdcv4Qm"
      },
      "execution_count": null,
      "outputs": []
    },
    {
      "cell_type": "code",
      "source": [
        "image_size"
      ],
      "metadata": {
        "colab": {
          "base_uri": "https://localhost:8080/"
        },
        "id": "xbzd1ouY1HN1",
        "outputId": "7309e04b-c87c-493f-8eec-721af75568b7"
      },
      "execution_count": null,
      "outputs": [
        {
          "output_type": "execute_result",
          "data": {
            "text/plain": [
              "28"
            ]
          },
          "metadata": {},
          "execution_count": 20
        }
      ]
    },
    {
      "cell_type": "code",
      "source": [
        "print(f\"x_train boyutu : {x_train.shape}\")\n",
        "\n",
        "print(f\"x_test boyutu : {x_test.shape}\")\n"
      ],
      "metadata": {
        "colab": {
          "base_uri": "https://localhost:8080/"
        },
        "id": "ohAQneH01Naf",
        "outputId": "eea035fa-5a66-4f85-934d-c352604db024"
      },
      "execution_count": null,
      "outputs": [
        {
          "output_type": "stream",
          "name": "stdout",
          "text": [
            "x_train boyutu : (60000, 28, 28)\n",
            "x_test boyutu : (10000, 28, 28)\n"
          ]
        }
      ]
    },
    {
      "cell_type": "code",
      "source": [
        "x_train = x_train.reshape(x_train.shape[0],28,28,1)\n",
        "\n",
        "x_test = x_test.reshape(x_test.shape[0],28,28,1)\n",
        "\n",
        "print(f\"x_train boyutu : {x_train.shape}\")\n",
        "\n",
        "print(f\"x_test boyutu : {x_test.shape}\")"
      ],
      "metadata": {
        "colab": {
          "base_uri": "https://localhost:8080/"
        },
        "id": "8U_yn2o6175S",
        "outputId": "33dc45bc-f17b-423e-d748-25dc2b74eec8"
      },
      "execution_count": null,
      "outputs": [
        {
          "output_type": "stream",
          "name": "stdout",
          "text": [
            "x_train boyutu : (60000, 28, 28, 1)\n",
            "x_test boyutu : (10000, 28, 28, 1)\n"
          ]
        }
      ]
    },
    {
      "cell_type": "markdown",
      "source": [
        "# **NORMALİZATİON**"
      ],
      "metadata": {
        "id": "KNLM_YfDvv8Q"
      }
    },
    {
      "cell_type": "code",
      "source": [
        "x_train = x_train.astype(\"float32\")/255\n",
        "\n",
        "x_test = x_test.astype(\"float32\")/255"
      ],
      "metadata": {
        "id": "1G0nBSDGv6Cm"
      },
      "execution_count": null,
      "outputs": []
    },
    {
      "cell_type": "markdown",
      "source": [
        "# **MODELLİNG(MODELLEME)**"
      ],
      "metadata": {
        "id": "fXPPP_nE7g9M"
      }
    },
    {
      "cell_type": "markdown",
      "source": [
        "# **SİNİR AĞI MİMARİSİNİ TANIMLAMAK**"
      ],
      "metadata": {
        "id": "T_O6gat37nvD"
      }
    },
    {
      "cell_type": "code",
      "source": [
        "model = tf.keras.Sequential(\n",
        "    [\n",
        "        Flatten(input_shape = (28,28,1)),\n",
        "\n",
        "        Dense(128,activation=\"relu\",name=\"layer1\"),\n",
        "\n",
        "        Dense(units=num_labels,activation=\"softmax\",name=\"output_layer\")\n",
        "    ]\n",
        "\n",
        "\n",
        ")\n",
        "\n",
        "model.compile(\n",
        "    optimizer=\"adam\",\n",
        "    loss=\"categorical_crossentropy\",\n",
        "    metrics=[tf.keras.metrics.Precision(),tf.keras.metrics.Recall(),\"accuracy\"])\n",
        "\n"
      ],
      "metadata": {
        "id": "HO4rY1Qt7mKL"
      },
      "execution_count": null,
      "outputs": []
    },
    {
      "cell_type": "markdown",
      "source": [
        "# **MİMARİYE GENEL BAKIŞ**"
      ],
      "metadata": {
        "id": "8g_UGnuf-rfQ"
      }
    },
    {
      "cell_type": "code",
      "source": [
        "model.summary()"
      ],
      "metadata": {
        "colab": {
          "base_uri": "https://localhost:8080/",
          "height": 225
        },
        "id": "6DgDP3xU-wGq",
        "outputId": "a030840d-f573-485e-ae22-9e1a9a2a4063"
      },
      "execution_count": null,
      "outputs": [
        {
          "output_type": "display_data",
          "data": {
            "text/plain": [
              "\u001b[1mModel: \"sequential\"\u001b[0m\n"
            ],
            "text/html": [
              "<pre style=\"white-space:pre;overflow-x:auto;line-height:normal;font-family:Menlo,'DejaVu Sans Mono',consolas,'Courier New',monospace\"><span style=\"font-weight: bold\">Model: \"sequential\"</span>\n",
              "</pre>\n"
            ]
          },
          "metadata": {}
        },
        {
          "output_type": "display_data",
          "data": {
            "text/plain": [
              "┏━━━━━━━━━━━━━━━━━━━━━━━━━━━━━━━━━━━━━━┳━━━━━━━━━━━━━━━━━━━━━━━━━━━━━┳━━━━━━━━━━━━━━━━━┓\n",
              "┃\u001b[1m \u001b[0m\u001b[1mLayer (type)                        \u001b[0m\u001b[1m \u001b[0m┃\u001b[1m \u001b[0m\u001b[1mOutput Shape               \u001b[0m\u001b[1m \u001b[0m┃\u001b[1m \u001b[0m\u001b[1m        Param #\u001b[0m\u001b[1m \u001b[0m┃\n",
              "┡━━━━━━━━━━━━━━━━━━━━━━━━━━━━━━━━━━━━━━╇━━━━━━━━━━━━━━━━━━━━━━━━━━━━━╇━━━━━━━━━━━━━━━━━┩\n",
              "│ flatten (\u001b[38;5;33mFlatten\u001b[0m)                    │ (\u001b[38;5;45mNone\u001b[0m, \u001b[38;5;34m784\u001b[0m)                 │               \u001b[38;5;34m0\u001b[0m │\n",
              "├──────────────────────────────────────┼─────────────────────────────┼─────────────────┤\n",
              "│ layer1 (\u001b[38;5;33mDense\u001b[0m)                       │ (\u001b[38;5;45mNone\u001b[0m, \u001b[38;5;34m128\u001b[0m)                 │         \u001b[38;5;34m100,480\u001b[0m │\n",
              "├──────────────────────────────────────┼─────────────────────────────┼─────────────────┤\n",
              "│ output_layer (\u001b[38;5;33mDense\u001b[0m)                 │ (\u001b[38;5;45mNone\u001b[0m, \u001b[38;5;34m10\u001b[0m)                  │           \u001b[38;5;34m1,290\u001b[0m │\n",
              "└──────────────────────────────────────┴─────────────────────────────┴─────────────────┘\n"
            ],
            "text/html": [
              "<pre style=\"white-space:pre;overflow-x:auto;line-height:normal;font-family:Menlo,'DejaVu Sans Mono',consolas,'Courier New',monospace\">┏━━━━━━━━━━━━━━━━━━━━━━━━━━━━━━━━━━━━━━┳━━━━━━━━━━━━━━━━━━━━━━━━━━━━━┳━━━━━━━━━━━━━━━━━┓\n",
              "┃<span style=\"font-weight: bold\"> Layer (type)                         </span>┃<span style=\"font-weight: bold\"> Output Shape                </span>┃<span style=\"font-weight: bold\">         Param # </span>┃\n",
              "┡━━━━━━━━━━━━━━━━━━━━━━━━━━━━━━━━━━━━━━╇━━━━━━━━━━━━━━━━━━━━━━━━━━━━━╇━━━━━━━━━━━━━━━━━┩\n",
              "│ flatten (<span style=\"color: #0087ff; text-decoration-color: #0087ff\">Flatten</span>)                    │ (<span style=\"color: #00d7ff; text-decoration-color: #00d7ff\">None</span>, <span style=\"color: #00af00; text-decoration-color: #00af00\">784</span>)                 │               <span style=\"color: #00af00; text-decoration-color: #00af00\">0</span> │\n",
              "├──────────────────────────────────────┼─────────────────────────────┼─────────────────┤\n",
              "│ layer1 (<span style=\"color: #0087ff; text-decoration-color: #0087ff\">Dense</span>)                       │ (<span style=\"color: #00d7ff; text-decoration-color: #00d7ff\">None</span>, <span style=\"color: #00af00; text-decoration-color: #00af00\">128</span>)                 │         <span style=\"color: #00af00; text-decoration-color: #00af00\">100,480</span> │\n",
              "├──────────────────────────────────────┼─────────────────────────────┼─────────────────┤\n",
              "│ output_layer (<span style=\"color: #0087ff; text-decoration-color: #0087ff\">Dense</span>)                 │ (<span style=\"color: #00d7ff; text-decoration-color: #00d7ff\">None</span>, <span style=\"color: #00af00; text-decoration-color: #00af00\">10</span>)                  │           <span style=\"color: #00af00; text-decoration-color: #00af00\">1,290</span> │\n",
              "└──────────────────────────────────────┴─────────────────────────────┴─────────────────┘\n",
              "</pre>\n"
            ]
          },
          "metadata": {}
        },
        {
          "output_type": "display_data",
          "data": {
            "text/plain": [
              "\u001b[1m Total params: \u001b[0m\u001b[38;5;34m101,770\u001b[0m (397.54 KB)\n"
            ],
            "text/html": [
              "<pre style=\"white-space:pre;overflow-x:auto;line-height:normal;font-family:Menlo,'DejaVu Sans Mono',consolas,'Courier New',monospace\"><span style=\"font-weight: bold\"> Total params: </span><span style=\"color: #00af00; text-decoration-color: #00af00\">101,770</span> (397.54 KB)\n",
              "</pre>\n"
            ]
          },
          "metadata": {}
        },
        {
          "output_type": "display_data",
          "data": {
            "text/plain": [
              "\u001b[1m Trainable params: \u001b[0m\u001b[38;5;34m101,770\u001b[0m (397.54 KB)\n"
            ],
            "text/html": [
              "<pre style=\"white-space:pre;overflow-x:auto;line-height:normal;font-family:Menlo,'DejaVu Sans Mono',consolas,'Courier New',monospace\"><span style=\"font-weight: bold\"> Trainable params: </span><span style=\"color: #00af00; text-decoration-color: #00af00\">101,770</span> (397.54 KB)\n",
              "</pre>\n"
            ]
          },
          "metadata": {}
        },
        {
          "output_type": "display_data",
          "data": {
            "text/plain": [
              "\u001b[1m Non-trainable params: \u001b[0m\u001b[38;5;34m0\u001b[0m (0.00 B)\n"
            ],
            "text/html": [
              "<pre style=\"white-space:pre;overflow-x:auto;line-height:normal;font-family:Menlo,'DejaVu Sans Mono',consolas,'Courier New',monospace\"><span style=\"font-weight: bold\"> Non-trainable params: </span><span style=\"color: #00af00; text-decoration-color: #00af00\">0</span> (0.00 B)\n",
              "</pre>\n"
            ]
          },
          "metadata": {}
        }
      ]
    },
    {
      "cell_type": "markdown",
      "source": [
        "# **MODEL EĞİTİMİ**"
      ],
      "metadata": {
        "id": "W5kklk0P_Vt3"
      }
    },
    {
      "cell_type": "code",
      "source": [
        "model.fit(x_train,y_train,epochs=50,batch_size=128,validation_data=(x_test,y_test))\n"
      ],
      "metadata": {
        "colab": {
          "base_uri": "https://localhost:8080/"
        },
        "id": "fScOpsth_ZX9",
        "outputId": "a13e6cdf-a4dc-47a8-e891-662cfa98392d"
      },
      "execution_count": null,
      "outputs": [
        {
          "output_type": "stream",
          "name": "stdout",
          "text": [
            "Epoch 1/50\n",
            "\u001b[1m469/469\u001b[0m \u001b[32m━━━━━━━━━━━━━━━━━━━━\u001b[0m\u001b[37m\u001b[0m \u001b[1m5s\u001b[0m 7ms/step - accuracy: 0.8279 - loss: 0.6292 - precision: 0.9358 - recall: 0.6972 - val_accuracy: 0.9445 - val_loss: 0.1904 - val_precision: 0.9573 - val_recall: 0.9308\n",
            "Epoch 2/50\n",
            "\u001b[1m469/469\u001b[0m \u001b[32m━━━━━━━━━━━━━━━━━━━━\u001b[0m\u001b[37m\u001b[0m \u001b[1m2s\u001b[0m 5ms/step - accuracy: 0.9492 - loss: 0.1802 - precision: 0.9611 - recall: 0.9386 - val_accuracy: 0.9597 - val_loss: 0.1399 - val_precision: 0.9668 - val_recall: 0.9522\n",
            "Epoch 3/50\n",
            "\u001b[1m469/469\u001b[0m \u001b[32m━━━━━━━━━━━━━━━━━━━━\u001b[0m\u001b[37m\u001b[0m \u001b[1m3s\u001b[0m 5ms/step - accuracy: 0.9627 - loss: 0.1267 - precision: 0.9711 - recall: 0.9562 - val_accuracy: 0.9661 - val_loss: 0.1150 - val_precision: 0.9721 - val_recall: 0.9602\n",
            "Epoch 4/50\n",
            "\u001b[1m469/469\u001b[0m \u001b[32m━━━━━━━━━━━━━━━━━━━━\u001b[0m\u001b[37m\u001b[0m \u001b[1m3s\u001b[0m 5ms/step - accuracy: 0.9712 - loss: 0.1005 - precision: 0.9769 - recall: 0.9661 - val_accuracy: 0.9699 - val_loss: 0.0990 - val_precision: 0.9747 - val_recall: 0.9664\n",
            "Epoch 5/50\n",
            "\u001b[1m469/469\u001b[0m \u001b[32m━━━━━━━━━━━━━━━━━━━━\u001b[0m\u001b[37m\u001b[0m \u001b[1m5s\u001b[0m 6ms/step - accuracy: 0.9786 - loss: 0.0753 - precision: 0.9826 - recall: 0.9750 - val_accuracy: 0.9716 - val_loss: 0.0902 - val_precision: 0.9758 - val_recall: 0.9682\n",
            "Epoch 6/50\n",
            "\u001b[1m469/469\u001b[0m \u001b[32m━━━━━━━━━━━━━━━━━━━━\u001b[0m\u001b[37m\u001b[0m \u001b[1m5s\u001b[0m 6ms/step - accuracy: 0.9806 - loss: 0.0675 - precision: 0.9843 - recall: 0.9773 - val_accuracy: 0.9738 - val_loss: 0.0821 - val_precision: 0.9777 - val_recall: 0.9705\n",
            "Epoch 7/50\n",
            "\u001b[1m469/469\u001b[0m \u001b[32m━━━━━━━━━━━━━━━━━━━━\u001b[0m\u001b[37m\u001b[0m \u001b[1m2s\u001b[0m 4ms/step - accuracy: 0.9851 - loss: 0.0526 - precision: 0.9879 - recall: 0.9831 - val_accuracy: 0.9770 - val_loss: 0.0765 - val_precision: 0.9794 - val_recall: 0.9739\n",
            "Epoch 8/50\n",
            "\u001b[1m469/469\u001b[0m \u001b[32m━━━━━━━━━━━━━━━━━━━━\u001b[0m\u001b[37m\u001b[0m \u001b[1m4s\u001b[0m 8ms/step - accuracy: 0.9874 - loss: 0.0447 - precision: 0.9895 - recall: 0.9856 - val_accuracy: 0.9773 - val_loss: 0.0756 - val_precision: 0.9805 - val_recall: 0.9748\n",
            "Epoch 9/50\n",
            "\u001b[1m469/469\u001b[0m \u001b[32m━━━━━━━━━━━━━━━━━━━━\u001b[0m\u001b[37m\u001b[0m \u001b[1m4s\u001b[0m 5ms/step - accuracy: 0.9895 - loss: 0.0389 - precision: 0.9917 - recall: 0.9879 - val_accuracy: 0.9777 - val_loss: 0.0711 - val_precision: 0.9807 - val_recall: 0.9751\n",
            "Epoch 10/50\n",
            "\u001b[1m469/469\u001b[0m \u001b[32m━━━━━━━━━━━━━━━━━━━━\u001b[0m\u001b[37m\u001b[0m \u001b[1m5s\u001b[0m 5ms/step - accuracy: 0.9920 - loss: 0.0298 - precision: 0.9933 - recall: 0.9908 - val_accuracy: 0.9788 - val_loss: 0.0723 - val_precision: 0.9811 - val_recall: 0.9765\n",
            "Epoch 11/50\n",
            "\u001b[1m469/469\u001b[0m \u001b[32m━━━━━━━━━━━━━━━━━━━━\u001b[0m\u001b[37m\u001b[0m \u001b[1m4s\u001b[0m 8ms/step - accuracy: 0.9929 - loss: 0.0278 - precision: 0.9945 - recall: 0.9917 - val_accuracy: 0.9774 - val_loss: 0.0720 - val_precision: 0.9801 - val_recall: 0.9761\n",
            "Epoch 12/50\n",
            "\u001b[1m469/469\u001b[0m \u001b[32m━━━━━━━━━━━━━━━━━━━━\u001b[0m\u001b[37m\u001b[0m \u001b[1m4s\u001b[0m 4ms/step - accuracy: 0.9940 - loss: 0.0237 - precision: 0.9950 - recall: 0.9928 - val_accuracy: 0.9794 - val_loss: 0.0694 - val_precision: 0.9816 - val_recall: 0.9780\n",
            "Epoch 13/50\n",
            "\u001b[1m469/469\u001b[0m \u001b[32m━━━━━━━━━━━━━━━━━━━━\u001b[0m\u001b[37m\u001b[0m \u001b[1m3s\u001b[0m 5ms/step - accuracy: 0.9953 - loss: 0.0195 - precision: 0.9964 - recall: 0.9942 - val_accuracy: 0.9766 - val_loss: 0.0757 - val_precision: 0.9789 - val_recall: 0.9749\n",
            "Epoch 14/50\n",
            "\u001b[1m469/469\u001b[0m \u001b[32m━━━━━━━━━━━━━━━━━━━━\u001b[0m\u001b[37m\u001b[0m \u001b[1m2s\u001b[0m 5ms/step - accuracy: 0.9963 - loss: 0.0167 - precision: 0.9970 - recall: 0.9958 - val_accuracy: 0.9784 - val_loss: 0.0735 - val_precision: 0.9803 - val_recall: 0.9770\n",
            "Epoch 15/50\n",
            "\u001b[1m469/469\u001b[0m \u001b[32m━━━━━━━━━━━━━━━━━━━━\u001b[0m\u001b[37m\u001b[0m \u001b[1m3s\u001b[0m 6ms/step - accuracy: 0.9965 - loss: 0.0156 - precision: 0.9970 - recall: 0.9961 - val_accuracy: 0.9782 - val_loss: 0.0735 - val_precision: 0.9804 - val_recall: 0.9770\n",
            "Epoch 16/50\n",
            "\u001b[1m469/469\u001b[0m \u001b[32m━━━━━━━━━━━━━━━━━━━━\u001b[0m\u001b[37m\u001b[0m \u001b[1m3s\u001b[0m 6ms/step - accuracy: 0.9978 - loss: 0.0117 - precision: 0.9980 - recall: 0.9974 - val_accuracy: 0.9782 - val_loss: 0.0722 - val_precision: 0.9799 - val_recall: 0.9771\n",
            "Epoch 17/50\n",
            "\u001b[1m469/469\u001b[0m \u001b[32m━━━━━━━━━━━━━━━━━━━━\u001b[0m\u001b[37m\u001b[0m \u001b[1m2s\u001b[0m 5ms/step - accuracy: 0.9977 - loss: 0.0117 - precision: 0.9980 - recall: 0.9973 - val_accuracy: 0.9781 - val_loss: 0.0746 - val_precision: 0.9802 - val_recall: 0.9775\n",
            "Epoch 18/50\n",
            "\u001b[1m469/469\u001b[0m \u001b[32m━━━━━━━━━━━━━━━━━━━━\u001b[0m\u001b[37m\u001b[0m \u001b[1m2s\u001b[0m 5ms/step - accuracy: 0.9986 - loss: 0.0092 - precision: 0.9988 - recall: 0.9984 - val_accuracy: 0.9783 - val_loss: 0.0768 - val_precision: 0.9793 - val_recall: 0.9772\n",
            "Epoch 19/50\n",
            "\u001b[1m469/469\u001b[0m \u001b[32m━━━━━━━━━━━━━━━━━━━━\u001b[0m\u001b[37m\u001b[0m \u001b[1m3s\u001b[0m 5ms/step - accuracy: 0.9985 - loss: 0.0082 - precision: 0.9986 - recall: 0.9983 - val_accuracy: 0.9779 - val_loss: 0.0774 - val_precision: 0.9800 - val_recall: 0.9767\n",
            "Epoch 20/50\n",
            "\u001b[1m469/469\u001b[0m \u001b[32m━━━━━━━━━━━━━━━━━━━━\u001b[0m\u001b[37m\u001b[0m \u001b[1m3s\u001b[0m 6ms/step - accuracy: 0.9990 - loss: 0.0068 - precision: 0.9992 - recall: 0.9988 - val_accuracy: 0.9782 - val_loss: 0.0775 - val_precision: 0.9797 - val_recall: 0.9777\n",
            "Epoch 21/50\n",
            "\u001b[1m469/469\u001b[0m \u001b[32m━━━━━━━━━━━━━━━━━━━━\u001b[0m\u001b[37m\u001b[0m \u001b[1m3s\u001b[0m 6ms/step - accuracy: 0.9990 - loss: 0.0059 - precision: 0.9991 - recall: 0.9989 - val_accuracy: 0.9796 - val_loss: 0.0758 - val_precision: 0.9810 - val_recall: 0.9791\n",
            "Epoch 22/50\n",
            "\u001b[1m469/469\u001b[0m \u001b[32m━━━━━━━━━━━━━━━━━━━━\u001b[0m\u001b[37m\u001b[0m \u001b[1m4s\u001b[0m 5ms/step - accuracy: 0.9995 - loss: 0.0046 - precision: 0.9995 - recall: 0.9993 - val_accuracy: 0.9787 - val_loss: 0.0803 - val_precision: 0.9801 - val_recall: 0.9776\n",
            "Epoch 23/50\n",
            "\u001b[1m469/469\u001b[0m \u001b[32m━━━━━━━━━━━━━━━━━━━━\u001b[0m\u001b[37m\u001b[0m \u001b[1m2s\u001b[0m 5ms/step - accuracy: 0.9987 - loss: 0.0066 - precision: 0.9988 - recall: 0.9987 - val_accuracy: 0.9778 - val_loss: 0.0889 - val_precision: 0.9793 - val_recall: 0.9769\n",
            "Epoch 24/50\n",
            "\u001b[1m469/469\u001b[0m \u001b[32m━━━━━━━━━━━━━━━━━━━━\u001b[0m\u001b[37m\u001b[0m \u001b[1m3s\u001b[0m 5ms/step - accuracy: 0.9990 - loss: 0.0054 - precision: 0.9991 - recall: 0.9989 - val_accuracy: 0.9769 - val_loss: 0.0914 - val_precision: 0.9780 - val_recall: 0.9763\n",
            "Epoch 25/50\n",
            "\u001b[1m469/469\u001b[0m \u001b[32m━━━━━━━━━━━━━━━━━━━━\u001b[0m\u001b[37m\u001b[0m \u001b[1m4s\u001b[0m 7ms/step - accuracy: 0.9992 - loss: 0.0047 - precision: 0.9992 - recall: 0.9991 - val_accuracy: 0.9807 - val_loss: 0.0789 - val_precision: 0.9816 - val_recall: 0.9801\n",
            "Epoch 26/50\n",
            "\u001b[1m469/469\u001b[0m \u001b[32m━━━━━━━━━━━━━━━━━━━━\u001b[0m\u001b[37m\u001b[0m \u001b[1m2s\u001b[0m 5ms/step - accuracy: 0.9999 - loss: 0.0021 - precision: 0.9999 - recall: 0.9999 - val_accuracy: 0.9788 - val_loss: 0.0849 - val_precision: 0.9799 - val_recall: 0.9783\n",
            "Epoch 27/50\n",
            "\u001b[1m469/469\u001b[0m \u001b[32m━━━━━━━━━━━━━━━━━━━━\u001b[0m\u001b[37m\u001b[0m \u001b[1m2s\u001b[0m 5ms/step - accuracy: 0.9996 - loss: 0.0027 - precision: 0.9996 - recall: 0.9996 - val_accuracy: 0.9788 - val_loss: 0.0854 - val_precision: 0.9794 - val_recall: 0.9784\n",
            "Epoch 28/50\n",
            "\u001b[1m469/469\u001b[0m \u001b[32m━━━━━━━━━━━━━━━━━━━━\u001b[0m\u001b[37m\u001b[0m \u001b[1m2s\u001b[0m 5ms/step - accuracy: 0.9987 - loss: 0.0057 - precision: 0.9987 - recall: 0.9985 - val_accuracy: 0.9806 - val_loss: 0.0828 - val_precision: 0.9819 - val_recall: 0.9801\n",
            "Epoch 29/50\n",
            "\u001b[1m469/469\u001b[0m \u001b[32m━━━━━━━━━━━━━━━━━━━━\u001b[0m\u001b[37m\u001b[0m \u001b[1m2s\u001b[0m 5ms/step - accuracy: 0.9997 - loss: 0.0025 - precision: 0.9997 - recall: 0.9997 - val_accuracy: 0.9786 - val_loss: 0.0912 - val_precision: 0.9795 - val_recall: 0.9783\n",
            "Epoch 30/50\n",
            "\u001b[1m469/469\u001b[0m \u001b[32m━━━━━━━━━━━━━━━━━━━━\u001b[0m\u001b[37m\u001b[0m \u001b[1m4s\u001b[0m 7ms/step - accuracy: 0.9996 - loss: 0.0023 - precision: 0.9997 - recall: 0.9996 - val_accuracy: 0.9798 - val_loss: 0.0836 - val_precision: 0.9809 - val_recall: 0.9792\n",
            "Epoch 31/50\n",
            "\u001b[1m469/469\u001b[0m \u001b[32m━━━━━━━━━━━━━━━━━━━━\u001b[0m\u001b[37m\u001b[0m \u001b[1m2s\u001b[0m 5ms/step - accuracy: 1.0000 - loss: 8.8605e-04 - precision: 1.0000 - recall: 1.0000 - val_accuracy: 0.9803 - val_loss: 0.0847 - val_precision: 0.9815 - val_recall: 0.9796\n",
            "Epoch 32/50\n",
            "\u001b[1m469/469\u001b[0m \u001b[32m━━━━━━━━━━━━━━━━━━━━\u001b[0m\u001b[37m\u001b[0m \u001b[1m2s\u001b[0m 5ms/step - accuracy: 1.0000 - loss: 7.0635e-04 - precision: 1.0000 - recall: 1.0000 - val_accuracy: 0.9758 - val_loss: 0.1042 - val_precision: 0.9765 - val_recall: 0.9753\n",
            "Epoch 33/50\n",
            "\u001b[1m469/469\u001b[0m \u001b[32m━━━━━━━━━━━━━━━━━━━━\u001b[0m\u001b[37m\u001b[0m \u001b[1m3s\u001b[0m 5ms/step - accuracy: 0.9951 - loss: 0.0144 - precision: 0.9954 - recall: 0.9948 - val_accuracy: 0.9786 - val_loss: 0.0938 - val_precision: 0.9794 - val_recall: 0.9780\n",
            "Epoch 34/50\n",
            "\u001b[1m469/469\u001b[0m \u001b[32m━━━━━━━━━━━━━━━━━━━━\u001b[0m\u001b[37m\u001b[0m \u001b[1m3s\u001b[0m 5ms/step - accuracy: 0.9994 - loss: 0.0032 - precision: 0.9995 - recall: 0.9994 - val_accuracy: 0.9810 - val_loss: 0.0905 - val_precision: 0.9815 - val_recall: 0.9800\n",
            "Epoch 35/50\n",
            "\u001b[1m469/469\u001b[0m \u001b[32m━━━━━━━━━━━━━━━━━━━━\u001b[0m\u001b[37m\u001b[0m \u001b[1m4s\u001b[0m 7ms/step - accuracy: 1.0000 - loss: 7.6944e-04 - precision: 1.0000 - recall: 1.0000 - val_accuracy: 0.9807 - val_loss: 0.0897 - val_precision: 0.9816 - val_recall: 0.9803\n",
            "Epoch 36/50\n",
            "\u001b[1m469/469\u001b[0m \u001b[32m━━━━━━━━━━━━━━━━━━━━\u001b[0m\u001b[37m\u001b[0m \u001b[1m4s\u001b[0m 5ms/step - accuracy: 1.0000 - loss: 4.9770e-04 - precision: 1.0000 - recall: 1.0000 - val_accuracy: 0.9805 - val_loss: 0.0889 - val_precision: 0.9818 - val_recall: 0.9800\n",
            "Epoch 37/50\n",
            "\u001b[1m469/469\u001b[0m \u001b[32m━━━━━━━━━━━━━━━━━━━━\u001b[0m\u001b[37m\u001b[0m \u001b[1m3s\u001b[0m 5ms/step - accuracy: 1.0000 - loss: 4.2012e-04 - precision: 1.0000 - recall: 1.0000 - val_accuracy: 0.9804 - val_loss: 0.0898 - val_precision: 0.9811 - val_recall: 0.9802\n",
            "Epoch 38/50\n",
            "\u001b[1m469/469\u001b[0m \u001b[32m━━━━━━━━━━━━━━━━━━━━\u001b[0m\u001b[37m\u001b[0m \u001b[1m2s\u001b[0m 5ms/step - accuracy: 1.0000 - loss: 4.5015e-04 - precision: 1.0000 - recall: 1.0000 - val_accuracy: 0.9807 - val_loss: 0.0898 - val_precision: 0.9813 - val_recall: 0.9804\n",
            "Epoch 39/50\n",
            "\u001b[1m469/469\u001b[0m \u001b[32m━━━━━━━━━━━━━━━━━━━━\u001b[0m\u001b[37m\u001b[0m \u001b[1m3s\u001b[0m 7ms/step - accuracy: 1.0000 - loss: 3.4416e-04 - precision: 1.0000 - recall: 1.0000 - val_accuracy: 0.9801 - val_loss: 0.0933 - val_precision: 0.9809 - val_recall: 0.9795\n",
            "Epoch 40/50\n",
            "\u001b[1m469/469\u001b[0m \u001b[32m━━━━━━━━━━━━━━━━━━━━\u001b[0m\u001b[37m\u001b[0m \u001b[1m4s\u001b[0m 5ms/step - accuracy: 0.9992 - loss: 0.0026 - precision: 0.9992 - recall: 0.9992 - val_accuracy: 0.9765 - val_loss: 0.1251 - val_precision: 0.9770 - val_recall: 0.9760\n",
            "Epoch 41/50\n",
            "\u001b[1m469/469\u001b[0m \u001b[32m━━━━━━━━━━━━━━━━━━━━\u001b[0m\u001b[37m\u001b[0m \u001b[1m2s\u001b[0m 5ms/step - accuracy: 0.9973 - loss: 0.0082 - precision: 0.9974 - recall: 0.9973 - val_accuracy: 0.9774 - val_loss: 0.1057 - val_precision: 0.9784 - val_recall: 0.9771\n",
            "Epoch 42/50\n",
            "\u001b[1m469/469\u001b[0m \u001b[32m━━━━━━━━━━━━━━━━━━━━\u001b[0m\u001b[37m\u001b[0m \u001b[1m3s\u001b[0m 5ms/step - accuracy: 0.9999 - loss: 0.0014 - precision: 0.9999 - recall: 0.9999 - val_accuracy: 0.9798 - val_loss: 0.1001 - val_precision: 0.9804 - val_recall: 0.9792\n",
            "Epoch 43/50\n",
            "\u001b[1m469/469\u001b[0m \u001b[32m━━━━━━━━━━━━━━━━━━━━\u001b[0m\u001b[37m\u001b[0m \u001b[1m3s\u001b[0m 6ms/step - accuracy: 1.0000 - loss: 4.3130e-04 - precision: 1.0000 - recall: 1.0000 - val_accuracy: 0.9799 - val_loss: 0.0975 - val_precision: 0.9804 - val_recall: 0.9796\n",
            "Epoch 44/50\n",
            "\u001b[1m469/469\u001b[0m \u001b[32m━━━━━━━━━━━━━━━━━━━━\u001b[0m\u001b[37m\u001b[0m \u001b[1m3s\u001b[0m 7ms/step - accuracy: 1.0000 - loss: 3.0056e-04 - precision: 1.0000 - recall: 1.0000 - val_accuracy: 0.9800 - val_loss: 0.0979 - val_precision: 0.9805 - val_recall: 0.9798\n",
            "Epoch 45/50\n",
            "\u001b[1m469/469\u001b[0m \u001b[32m━━━━━━━━━━━━━━━━━━━━\u001b[0m\u001b[37m\u001b[0m \u001b[1m4s\u001b[0m 5ms/step - accuracy: 1.0000 - loss: 2.4878e-04 - precision: 1.0000 - recall: 1.0000 - val_accuracy: 0.9802 - val_loss: 0.0984 - val_precision: 0.9806 - val_recall: 0.9800\n",
            "Epoch 46/50\n",
            "\u001b[1m469/469\u001b[0m \u001b[32m━━━━━━━━━━━━━━━━━━━━\u001b[0m\u001b[37m\u001b[0m \u001b[1m2s\u001b[0m 5ms/step - accuracy: 1.0000 - loss: 2.2243e-04 - precision: 1.0000 - recall: 1.0000 - val_accuracy: 0.9806 - val_loss: 0.0987 - val_precision: 0.9808 - val_recall: 0.9803\n",
            "Epoch 47/50\n",
            "\u001b[1m469/469\u001b[0m \u001b[32m━━━━━━━━━━━━━━━━━━━━\u001b[0m\u001b[37m\u001b[0m \u001b[1m3s\u001b[0m 5ms/step - accuracy: 1.0000 - loss: 2.0283e-04 - precision: 1.0000 - recall: 1.0000 - val_accuracy: 0.9802 - val_loss: 0.0985 - val_precision: 0.9803 - val_recall: 0.9800\n",
            "Epoch 48/50\n",
            "\u001b[1m469/469\u001b[0m \u001b[32m━━━━━━━━━━━━━━━━━━━━\u001b[0m\u001b[37m\u001b[0m \u001b[1m3s\u001b[0m 7ms/step - accuracy: 1.0000 - loss: 1.9524e-04 - precision: 1.0000 - recall: 1.0000 - val_accuracy: 0.9798 - val_loss: 0.1016 - val_precision: 0.9805 - val_recall: 0.9797\n",
            "Epoch 49/50\n",
            "\u001b[1m469/469\u001b[0m \u001b[32m━━━━━━━━━━━━━━━━━━━━\u001b[0m\u001b[37m\u001b[0m \u001b[1m2s\u001b[0m 5ms/step - accuracy: 0.9957 - loss: 0.0123 - precision: 0.9959 - recall: 0.9956 - val_accuracy: 0.9782 - val_loss: 0.1234 - val_precision: 0.9786 - val_recall: 0.9779\n",
            "Epoch 50/50\n",
            "\u001b[1m469/469\u001b[0m \u001b[32m━━━━━━━━━━━━━━━━━━━━\u001b[0m\u001b[37m\u001b[0m \u001b[1m2s\u001b[0m 5ms/step - accuracy: 0.9992 - loss: 0.0027 - precision: 0.9992 - recall: 0.9992 - val_accuracy: 0.9804 - val_loss: 0.1057 - val_precision: 0.9809 - val_recall: 0.9800\n"
          ]
        },
        {
          "output_type": "execute_result",
          "data": {
            "text/plain": [
              "<keras.src.callbacks.history.History at 0x7d379a2fd4e0>"
            ]
          },
          "metadata": {},
          "execution_count": 26
        }
      ]
    },
    {
      "cell_type": "markdown",
      "source": [
        "# **MODEL BAŞARISINI DEĞERLENDİRME**"
      ],
      "metadata": {
        "id": "89Oh3S_zCkgB"
      }
    },
    {
      "cell_type": "code",
      "source": [
        "history = model.fit(x_train,y_train,epochs=50,batch_size=128,validation_data=(x_test,y_test))\n",
        "\n",
        "\n"
      ],
      "metadata": {
        "colab": {
          "base_uri": "https://localhost:8080/"
        },
        "id": "4EID6BwRCmX6",
        "outputId": "18666657-e82c-4908-be8d-3a03eec71a6d"
      },
      "execution_count": null,
      "outputs": [
        {
          "output_type": "stream",
          "name": "stdout",
          "text": [
            "Epoch 1/50\n",
            "\u001b[1m469/469\u001b[0m \u001b[32m━━━━━━━━━━━━━━━━━━━━\u001b[0m\u001b[37m\u001b[0m \u001b[1m2s\u001b[0m 5ms/step - accuracy: 0.9999 - loss: 5.1052e-04 - precision: 0.9999 - recall: 0.9999 - val_accuracy: 0.9807 - val_loss: 0.1019 - val_precision: 0.9814 - val_recall: 0.9804\n",
            "Epoch 2/50\n",
            "\u001b[1m469/469\u001b[0m \u001b[32m━━━━━━━━━━━━━━━━━━━━\u001b[0m\u001b[37m\u001b[0m \u001b[1m3s\u001b[0m 5ms/step - accuracy: 1.0000 - loss: 2.2989e-04 - precision: 1.0000 - recall: 1.0000 - val_accuracy: 0.9809 - val_loss: 0.1016 - val_precision: 0.9816 - val_recall: 0.9805\n",
            "Epoch 3/50\n",
            "\u001b[1m469/469\u001b[0m \u001b[32m━━━━━━━━━━━━━━━━━━━━\u001b[0m\u001b[37m\u001b[0m \u001b[1m5s\u001b[0m 4ms/step - accuracy: 1.0000 - loss: 1.9966e-04 - precision: 1.0000 - recall: 1.0000 - val_accuracy: 0.9804 - val_loss: 0.1024 - val_precision: 0.9813 - val_recall: 0.9803\n",
            "Epoch 4/50\n",
            "\u001b[1m469/469\u001b[0m \u001b[32m━━━━━━━━━━━━━━━━━━━━\u001b[0m\u001b[37m\u001b[0m \u001b[1m3s\u001b[0m 5ms/step - accuracy: 1.0000 - loss: 1.6016e-04 - precision: 1.0000 - recall: 1.0000 - val_accuracy: 0.9804 - val_loss: 0.1021 - val_precision: 0.9809 - val_recall: 0.9803\n",
            "Epoch 5/50\n",
            "\u001b[1m469/469\u001b[0m \u001b[32m━━━━━━━━━━━━━━━━━━━━\u001b[0m\u001b[37m\u001b[0m \u001b[1m3s\u001b[0m 5ms/step - accuracy: 1.0000 - loss: 1.4016e-04 - precision: 1.0000 - recall: 1.0000 - val_accuracy: 0.9809 - val_loss: 0.1020 - val_precision: 0.9813 - val_recall: 0.9807\n",
            "Epoch 6/50\n",
            "\u001b[1m469/469\u001b[0m \u001b[32m━━━━━━━━━━━━━━━━━━━━\u001b[0m\u001b[37m\u001b[0m \u001b[1m3s\u001b[0m 6ms/step - accuracy: 1.0000 - loss: 1.2917e-04 - precision: 1.0000 - recall: 1.0000 - val_accuracy: 0.9809 - val_loss: 0.1031 - val_precision: 0.9818 - val_recall: 0.9806\n",
            "Epoch 7/50\n",
            "\u001b[1m469/469\u001b[0m \u001b[32m━━━━━━━━━━━━━━━━━━━━\u001b[0m\u001b[37m\u001b[0m \u001b[1m4s\u001b[0m 4ms/step - accuracy: 1.0000 - loss: 1.1696e-04 - precision: 1.0000 - recall: 1.0000 - val_accuracy: 0.9805 - val_loss: 0.1030 - val_precision: 0.9810 - val_recall: 0.9802\n",
            "Epoch 8/50\n",
            "\u001b[1m469/469\u001b[0m \u001b[32m━━━━━━━━━━━━━━━━━━━━\u001b[0m\u001b[37m\u001b[0m \u001b[1m3s\u001b[0m 4ms/step - accuracy: 1.0000 - loss: 1.0464e-04 - precision: 1.0000 - recall: 1.0000 - val_accuracy: 0.9811 - val_loss: 0.1040 - val_precision: 0.9817 - val_recall: 0.9809\n",
            "Epoch 9/50\n",
            "\u001b[1m469/469\u001b[0m \u001b[32m━━━━━━━━━━━━━━━━━━━━\u001b[0m\u001b[37m\u001b[0m \u001b[1m3s\u001b[0m 5ms/step - accuracy: 1.0000 - loss: 1.0022e-04 - precision: 1.0000 - recall: 1.0000 - val_accuracy: 0.9810 - val_loss: 0.1046 - val_precision: 0.9813 - val_recall: 0.9806\n",
            "Epoch 10/50\n",
            "\u001b[1m469/469\u001b[0m \u001b[32m━━━━━━━━━━━━━━━━━━━━\u001b[0m\u001b[37m\u001b[0m \u001b[1m3s\u001b[0m 6ms/step - accuracy: 0.9998 - loss: 5.9347e-04 - precision: 0.9998 - recall: 0.9998 - val_accuracy: 0.9674 - val_loss: 0.1820 - val_precision: 0.9684 - val_recall: 0.9670\n",
            "Epoch 11/50\n",
            "\u001b[1m469/469\u001b[0m \u001b[32m━━━━━━━━━━━━━━━━━━━━\u001b[0m\u001b[37m\u001b[0m \u001b[1m5s\u001b[0m 5ms/step - accuracy: 0.9948 - loss: 0.0177 - precision: 0.9950 - recall: 0.9947 - val_accuracy: 0.9793 - val_loss: 0.1128 - val_precision: 0.9796 - val_recall: 0.9789\n",
            "Epoch 12/50\n",
            "\u001b[1m469/469\u001b[0m \u001b[32m━━━━━━━━━━━━━━━━━━━━\u001b[0m\u001b[37m\u001b[0m \u001b[1m3s\u001b[0m 5ms/step - accuracy: 0.9998 - loss: 8.8361e-04 - precision: 0.9998 - recall: 0.9998 - val_accuracy: 0.9814 - val_loss: 0.1063 - val_precision: 0.9819 - val_recall: 0.9812\n",
            "Epoch 13/50\n",
            "\u001b[1m469/469\u001b[0m \u001b[32m━━━━━━━━━━━━━━━━━━━━\u001b[0m\u001b[37m\u001b[0m \u001b[1m3s\u001b[0m 5ms/step - accuracy: 1.0000 - loss: 2.1573e-04 - precision: 1.0000 - recall: 1.0000 - val_accuracy: 0.9815 - val_loss: 0.1061 - val_precision: 0.9819 - val_recall: 0.9811\n",
            "Epoch 14/50\n",
            "\u001b[1m469/469\u001b[0m \u001b[32m━━━━━━━━━━━━━━━━━━━━\u001b[0m\u001b[37m\u001b[0m \u001b[1m3s\u001b[0m 6ms/step - accuracy: 1.0000 - loss: 1.5517e-04 - precision: 1.0000 - recall: 1.0000 - val_accuracy: 0.9815 - val_loss: 0.1074 - val_precision: 0.9819 - val_recall: 0.9812\n",
            "Epoch 15/50\n",
            "\u001b[1m469/469\u001b[0m \u001b[32m━━━━━━━━━━━━━━━━━━━━\u001b[0m\u001b[37m\u001b[0m \u001b[1m4s\u001b[0m 4ms/step - accuracy: 1.0000 - loss: 1.1967e-04 - precision: 1.0000 - recall: 1.0000 - val_accuracy: 0.9816 - val_loss: 0.1077 - val_precision: 0.9818 - val_recall: 0.9814\n",
            "Epoch 16/50\n",
            "\u001b[1m469/469\u001b[0m \u001b[32m━━━━━━━━━━━━━━━━━━━━\u001b[0m\u001b[37m\u001b[0m \u001b[1m3s\u001b[0m 5ms/step - accuracy: 1.0000 - loss: 1.1347e-04 - precision: 1.0000 - recall: 1.0000 - val_accuracy: 0.9813 - val_loss: 0.1078 - val_precision: 0.9818 - val_recall: 0.9813\n",
            "Epoch 17/50\n",
            "\u001b[1m469/469\u001b[0m \u001b[32m━━━━━━━━━━━━━━━━━━━━\u001b[0m\u001b[37m\u001b[0m \u001b[1m2s\u001b[0m 4ms/step - accuracy: 1.0000 - loss: 9.5799e-05 - precision: 1.0000 - recall: 1.0000 - val_accuracy: 0.9814 - val_loss: 0.1086 - val_precision: 0.9819 - val_recall: 0.9810\n",
            "Epoch 18/50\n",
            "\u001b[1m469/469\u001b[0m \u001b[32m━━━━━━━━━━━━━━━━━━━━\u001b[0m\u001b[37m\u001b[0m \u001b[1m3s\u001b[0m 6ms/step - accuracy: 1.0000 - loss: 8.5216e-05 - precision: 1.0000 - recall: 1.0000 - val_accuracy: 0.9816 - val_loss: 0.1086 - val_precision: 0.9820 - val_recall: 0.9814\n",
            "Epoch 19/50\n",
            "\u001b[1m469/469\u001b[0m \u001b[32m━━━━━━━━━━━━━━━━━━━━\u001b[0m\u001b[37m\u001b[0m \u001b[1m3s\u001b[0m 6ms/step - accuracy: 1.0000 - loss: 7.6340e-05 - precision: 1.0000 - recall: 1.0000 - val_accuracy: 0.9809 - val_loss: 0.1089 - val_precision: 0.9813 - val_recall: 0.9806\n",
            "Epoch 20/50\n",
            "\u001b[1m469/469\u001b[0m \u001b[32m━━━━━━━━━━━━━━━━━━━━\u001b[0m\u001b[37m\u001b[0m \u001b[1m4s\u001b[0m 5ms/step - accuracy: 1.0000 - loss: 6.7818e-05 - precision: 1.0000 - recall: 1.0000 - val_accuracy: 0.9814 - val_loss: 0.1101 - val_precision: 0.9817 - val_recall: 0.9811\n",
            "Epoch 21/50\n",
            "\u001b[1m469/469\u001b[0m \u001b[32m━━━━━━━━━━━━━━━━━━━━\u001b[0m\u001b[37m\u001b[0m \u001b[1m2s\u001b[0m 5ms/step - accuracy: 1.0000 - loss: 6.0886e-05 - precision: 1.0000 - recall: 1.0000 - val_accuracy: 0.9808 - val_loss: 0.1107 - val_precision: 0.9811 - val_recall: 0.9805\n",
            "Epoch 22/50\n",
            "\u001b[1m469/469\u001b[0m \u001b[32m━━━━━━━━━━━━━━━━━━━━\u001b[0m\u001b[37m\u001b[0m \u001b[1m3s\u001b[0m 5ms/step - accuracy: 1.0000 - loss: 6.1836e-05 - precision: 1.0000 - recall: 1.0000 - val_accuracy: 0.9819 - val_loss: 0.1114 - val_precision: 0.9821 - val_recall: 0.9818\n",
            "Epoch 23/50\n",
            "\u001b[1m469/469\u001b[0m \u001b[32m━━━━━━━━━━━━━━━━━━━━\u001b[0m\u001b[37m\u001b[0m \u001b[1m4s\u001b[0m 7ms/step - accuracy: 1.0000 - loss: 4.9432e-05 - precision: 1.0000 - recall: 1.0000 - val_accuracy: 0.9804 - val_loss: 0.1116 - val_precision: 0.9808 - val_recall: 0.9803\n",
            "Epoch 24/50\n",
            "\u001b[1m469/469\u001b[0m \u001b[32m━━━━━━━━━━━━━━━━━━━━\u001b[0m\u001b[37m\u001b[0m \u001b[1m2s\u001b[0m 5ms/step - accuracy: 0.9946 - loss: 0.0181 - precision: 0.9947 - recall: 0.9945 - val_accuracy: 0.9811 - val_loss: 0.1170 - val_precision: 0.9813 - val_recall: 0.9807\n",
            "Epoch 25/50\n",
            "\u001b[1m469/469\u001b[0m \u001b[32m━━━━━━━━━━━━━━━━━━━━\u001b[0m\u001b[37m\u001b[0m \u001b[1m3s\u001b[0m 5ms/step - accuracy: 0.9996 - loss: 0.0013 - precision: 0.9996 - recall: 0.9996 - val_accuracy: 0.9798 - val_loss: 0.1203 - val_precision: 0.9800 - val_recall: 0.9797\n",
            "Epoch 26/50\n",
            "\u001b[1m469/469\u001b[0m \u001b[32m━━━━━━━━━━━━━━━━━━━━\u001b[0m\u001b[37m\u001b[0m \u001b[1m2s\u001b[0m 5ms/step - accuracy: 1.0000 - loss: 2.6170e-04 - precision: 1.0000 - recall: 1.0000 - val_accuracy: 0.9805 - val_loss: 0.1145 - val_precision: 0.9807 - val_recall: 0.9803\n",
            "Epoch 27/50\n",
            "\u001b[1m469/469\u001b[0m \u001b[32m━━━━━━━━━━━━━━━━━━━━\u001b[0m\u001b[37m\u001b[0m \u001b[1m2s\u001b[0m 5ms/step - accuracy: 1.0000 - loss: 1.1003e-04 - precision: 1.0000 - recall: 1.0000 - val_accuracy: 0.9810 - val_loss: 0.1139 - val_precision: 0.9812 - val_recall: 0.9806\n",
            "Epoch 28/50\n",
            "\u001b[1m469/469\u001b[0m \u001b[32m━━━━━━━━━━━━━━━━━━━━\u001b[0m\u001b[37m\u001b[0m \u001b[1m4s\u001b[0m 8ms/step - accuracy: 1.0000 - loss: 8.5760e-05 - precision: 1.0000 - recall: 1.0000 - val_accuracy: 0.9807 - val_loss: 0.1140 - val_precision: 0.9810 - val_recall: 0.9802\n",
            "Epoch 29/50\n",
            "\u001b[1m469/469\u001b[0m \u001b[32m━━━━━━━━━━━━━━━━━━━━\u001b[0m\u001b[37m\u001b[0m \u001b[1m4s\u001b[0m 4ms/step - accuracy: 1.0000 - loss: 7.3162e-05 - precision: 1.0000 - recall: 1.0000 - val_accuracy: 0.9806 - val_loss: 0.1146 - val_precision: 0.9808 - val_recall: 0.9803\n",
            "Epoch 30/50\n",
            "\u001b[1m469/469\u001b[0m \u001b[32m━━━━━━━━━━━━━━━━━━━━\u001b[0m\u001b[37m\u001b[0m \u001b[1m3s\u001b[0m 5ms/step - accuracy: 1.0000 - loss: 6.1659e-05 - precision: 1.0000 - recall: 1.0000 - val_accuracy: 0.9805 - val_loss: 0.1146 - val_precision: 0.9810 - val_recall: 0.9804\n",
            "Epoch 31/50\n",
            "\u001b[1m469/469\u001b[0m \u001b[32m━━━━━━━━━━━━━━━━━━━━\u001b[0m\u001b[37m\u001b[0m \u001b[1m2s\u001b[0m 5ms/step - accuracy: 1.0000 - loss: 5.5061e-05 - precision: 1.0000 - recall: 1.0000 - val_accuracy: 0.9806 - val_loss: 0.1147 - val_precision: 0.9807 - val_recall: 0.9804\n",
            "Epoch 32/50\n",
            "\u001b[1m469/469\u001b[0m \u001b[32m━━━━━━━━━━━━━━━━━━━━\u001b[0m\u001b[37m\u001b[0m \u001b[1m3s\u001b[0m 7ms/step - accuracy: 1.0000 - loss: 4.9103e-05 - precision: 1.0000 - recall: 1.0000 - val_accuracy: 0.9805 - val_loss: 0.1155 - val_precision: 0.9806 - val_recall: 0.9802\n",
            "Epoch 33/50\n",
            "\u001b[1m469/469\u001b[0m \u001b[32m━━━━━━━━━━━━━━━━━━━━\u001b[0m\u001b[37m\u001b[0m \u001b[1m4s\u001b[0m 4ms/step - accuracy: 1.0000 - loss: 4.5469e-05 - precision: 1.0000 - recall: 1.0000 - val_accuracy: 0.9809 - val_loss: 0.1152 - val_precision: 0.9811 - val_recall: 0.9807\n",
            "Epoch 34/50\n",
            "\u001b[1m469/469\u001b[0m \u001b[32m━━━━━━━━━━━━━━━━━━━━\u001b[0m\u001b[37m\u001b[0m \u001b[1m4s\u001b[0m 7ms/step - accuracy: 1.0000 - loss: 4.1020e-05 - precision: 1.0000 - recall: 1.0000 - val_accuracy: 0.9812 - val_loss: 0.1158 - val_precision: 0.9813 - val_recall: 0.9811\n",
            "Epoch 35/50\n",
            "\u001b[1m469/469\u001b[0m \u001b[32m━━━━━━━━━━━━━━━━━━━━\u001b[0m\u001b[37m\u001b[0m \u001b[1m5s\u001b[0m 7ms/step - accuracy: 1.0000 - loss: 3.5919e-05 - precision: 1.0000 - recall: 1.0000 - val_accuracy: 0.9811 - val_loss: 0.1156 - val_precision: 0.9814 - val_recall: 0.9809\n",
            "Epoch 36/50\n",
            "\u001b[1m469/469\u001b[0m \u001b[32m━━━━━━━━━━━━━━━━━━━━\u001b[0m\u001b[37m\u001b[0m \u001b[1m4s\u001b[0m 5ms/step - accuracy: 1.0000 - loss: 3.2829e-05 - precision: 1.0000 - recall: 1.0000 - val_accuracy: 0.9810 - val_loss: 0.1163 - val_precision: 0.9811 - val_recall: 0.9809\n",
            "Epoch 37/50\n",
            "\u001b[1m469/469\u001b[0m \u001b[32m━━━━━━━━━━━━━━━━━━━━\u001b[0m\u001b[37m\u001b[0m \u001b[1m3s\u001b[0m 5ms/step - accuracy: 1.0000 - loss: 3.0520e-05 - precision: 1.0000 - recall: 1.0000 - val_accuracy: 0.9810 - val_loss: 0.1164 - val_precision: 0.9812 - val_recall: 0.9809\n",
            "Epoch 38/50\n",
            "\u001b[1m469/469\u001b[0m \u001b[32m━━━━━━━━━━━━━━━━━━━━\u001b[0m\u001b[37m\u001b[0m \u001b[1m2s\u001b[0m 5ms/step - accuracy: 1.0000 - loss: 2.7120e-05 - precision: 1.0000 - recall: 1.0000 - val_accuracy: 0.9814 - val_loss: 0.1169 - val_precision: 0.9815 - val_recall: 0.9812\n",
            "Epoch 39/50\n",
            "\u001b[1m469/469\u001b[0m \u001b[32m━━━━━━━━━━━━━━━━━━━━\u001b[0m\u001b[37m\u001b[0m \u001b[1m3s\u001b[0m 6ms/step - accuracy: 1.0000 - loss: 2.4382e-05 - precision: 1.0000 - recall: 1.0000 - val_accuracy: 0.9815 - val_loss: 0.1174 - val_precision: 0.9815 - val_recall: 0.9814\n",
            "Epoch 40/50\n",
            "\u001b[1m469/469\u001b[0m \u001b[32m━━━━━━━━━━━━━━━━━━━━\u001b[0m\u001b[37m\u001b[0m \u001b[1m3s\u001b[0m 6ms/step - accuracy: 1.0000 - loss: 2.4235e-05 - precision: 1.0000 - recall: 1.0000 - val_accuracy: 0.9815 - val_loss: 0.1184 - val_precision: 0.9817 - val_recall: 0.9814\n",
            "Epoch 41/50\n",
            "\u001b[1m469/469\u001b[0m \u001b[32m━━━━━━━━━━━━━━━━━━━━\u001b[0m\u001b[37m\u001b[0m \u001b[1m5s\u001b[0m 5ms/step - accuracy: 0.9962 - loss: 0.0146 - precision: 0.9962 - recall: 0.9962 - val_accuracy: 0.9795 - val_loss: 0.1345 - val_precision: 0.9798 - val_recall: 0.9794\n",
            "Epoch 42/50\n",
            "\u001b[1m469/469\u001b[0m \u001b[32m━━━━━━━━━━━━━━━━━━━━\u001b[0m\u001b[37m\u001b[0m \u001b[1m2s\u001b[0m 5ms/step - accuracy: 0.9995 - loss: 0.0019 - precision: 0.9996 - recall: 0.9995 - val_accuracy: 0.9802 - val_loss: 0.1230 - val_precision: 0.9802 - val_recall: 0.9800\n",
            "Epoch 43/50\n",
            "\u001b[1m469/469\u001b[0m \u001b[32m━━━━━━━━━━━━━━━━━━━━\u001b[0m\u001b[37m\u001b[0m \u001b[1m3s\u001b[0m 5ms/step - accuracy: 1.0000 - loss: 1.3972e-04 - precision: 1.0000 - recall: 1.0000 - val_accuracy: 0.9806 - val_loss: 0.1212 - val_precision: 0.9808 - val_recall: 0.9805\n",
            "Epoch 44/50\n",
            "\u001b[1m469/469\u001b[0m \u001b[32m━━━━━━━━━━━━━━━━━━━━\u001b[0m\u001b[37m\u001b[0m \u001b[1m3s\u001b[0m 7ms/step - accuracy: 1.0000 - loss: 7.3544e-05 - precision: 1.0000 - recall: 1.0000 - val_accuracy: 0.9805 - val_loss: 0.1215 - val_precision: 0.9808 - val_recall: 0.9804\n",
            "Epoch 45/50\n",
            "\u001b[1m469/469\u001b[0m \u001b[32m━━━━━━━━━━━━━━━━━━━━\u001b[0m\u001b[37m\u001b[0m \u001b[1m2s\u001b[0m 5ms/step - accuracy: 1.0000 - loss: 5.9001e-05 - precision: 1.0000 - recall: 1.0000 - val_accuracy: 0.9805 - val_loss: 0.1215 - val_precision: 0.9808 - val_recall: 0.9805\n",
            "Epoch 46/50\n",
            "\u001b[1m469/469\u001b[0m \u001b[32m━━━━━━━━━━━━━━━━━━━━\u001b[0m\u001b[37m\u001b[0m \u001b[1m3s\u001b[0m 5ms/step - accuracy: 1.0000 - loss: 4.8487e-05 - precision: 1.0000 - recall: 1.0000 - val_accuracy: 0.9805 - val_loss: 0.1217 - val_precision: 0.9807 - val_recall: 0.9805\n",
            "Epoch 47/50\n",
            "\u001b[1m469/469\u001b[0m \u001b[32m━━━━━━━━━━━━━━━━━━━━\u001b[0m\u001b[37m\u001b[0m \u001b[1m2s\u001b[0m 5ms/step - accuracy: 1.0000 - loss: 4.6202e-05 - precision: 1.0000 - recall: 1.0000 - val_accuracy: 0.9805 - val_loss: 0.1216 - val_precision: 0.9806 - val_recall: 0.9805\n",
            "Epoch 48/50\n",
            "\u001b[1m469/469\u001b[0m \u001b[32m━━━━━━━━━━━━━━━━━━━━\u001b[0m\u001b[37m\u001b[0m \u001b[1m2s\u001b[0m 5ms/step - accuracy: 1.0000 - loss: 3.7119e-05 - precision: 1.0000 - recall: 1.0000 - val_accuracy: 0.9806 - val_loss: 0.1223 - val_precision: 0.9806 - val_recall: 0.9804\n",
            "Epoch 49/50\n",
            "\u001b[1m469/469\u001b[0m \u001b[32m━━━━━━━━━━━━━━━━━━━━\u001b[0m\u001b[37m\u001b[0m \u001b[1m4s\u001b[0m 7ms/step - accuracy: 1.0000 - loss: 3.4606e-05 - precision: 1.0000 - recall: 1.0000 - val_accuracy: 0.9804 - val_loss: 0.1218 - val_precision: 0.9805 - val_recall: 0.9803\n",
            "Epoch 50/50\n",
            "\u001b[1m469/469\u001b[0m \u001b[32m━━━━━━━━━━━━━━━━━━━━\u001b[0m\u001b[37m\u001b[0m \u001b[1m2s\u001b[0m 5ms/step - accuracy: 1.0000 - loss: 3.0069e-05 - precision: 1.0000 - recall: 1.0000 - val_accuracy: 0.9809 - val_loss: 0.1224 - val_precision: 0.9811 - val_recall: 0.9808\n"
          ]
        }
      ]
    },
    {
      "cell_type": "markdown",
      "source": [
        "# **EĞİTİM VE TEST SETİN DOĞRULUK GRAFİĞİ**"
      ],
      "metadata": {
        "id": "kdWgnBDcFnj7"
      }
    },
    {
      "cell_type": "code",
      "source": [
        "plt.figure(figsize=(20,5))\n",
        "\n",
        "plt.subplot(1,2,2)\n",
        "\n",
        "plt.plot(history.history[\"accuracy\"],color=\"b\",label=\"training accuracy\")\n",
        "\n",
        "plt.plot(history.history[\"val_accuracy\"],label=\"validation accuracy\")\n",
        "\n",
        "plt.legend(loc=\"lower right\")\n",
        "\n",
        "plt.xlabel(\"Epoch\",fontsize=16)\n",
        "\n",
        "plt.ylabel(\"Accuracy\",fontsize=16)\n",
        "\n",
        "plt.ylim([min(plt.ylim()),1])\n",
        "\n",
        "plt.title(\"Training and Validation Accuracy\",fontsize=16)"
      ],
      "metadata": {
        "colab": {
          "base_uri": "https://localhost:8080/",
          "height": 411
        },
        "id": "C0lxVUhmDzah",
        "outputId": "6df012da-8b56-4d23-8818-71fb843d6eae"
      },
      "execution_count": null,
      "outputs": [
        {
          "output_type": "execute_result",
          "data": {
            "text/plain": [
              "Text(0.5, 1.0, 'Training and Validation Accuracy')"
            ]
          },
          "metadata": {},
          "execution_count": 28
        },
        {
          "output_type": "display_data",
          "data": {
            "text/plain": [
              "<Figure size 2000x500 with 1 Axes>"
            ],
            "image/png": "[encoded data removed]"
          },
          "metadata": {}
        }
      ]
    },
    {
      "cell_type": "markdown",
      "source": [
        "# **EĞİTİM VE TEST KAYIP GRAFİĞİ**"
      ],
      "metadata": {
        "id": "PtaSab4uFtws"
      }
    },
    {
      "cell_type": "code",
      "source": [
        "\n",
        "\n",
        "plt.subplot(1,2,2)\n",
        "\n",
        "plt.plot(history.history[\"loss\"],color=\"b\",label=\"training loss\")\n",
        "\n",
        "plt.plot(history.history[\"val_loss\"],color=\"r\",label=\"validation loss\")\n",
        "\n",
        "plt.legend(loc=\"upper right\")\n",
        "\n",
        "plt.xlabel(\"Epoch\",fontsize=16)\n",
        "\n",
        "plt.ylabel(\"Loss\",fontsize=16)\n",
        "\n",
        "plt.ylim([min(plt.ylim()),1])\n",
        "\n",
        "plt.title(\"Training and Validation Loss\",fontsize=16)"
      ],
      "metadata": {
        "colab": {
          "base_uri": "https://localhost:8080/",
          "height": 497
        },
        "id": "gBjZoUaNF08e",
        "outputId": "73f5c187-79b8-400d-d3a3-c3bf7caf8238"
      },
      "execution_count": null,
      "outputs": [
        {
          "output_type": "execute_result",
          "data": {
            "text/plain": [
              "Text(0.5, 1.0, 'Training and Validation Loss')"
            ]
          },
          "metadata": {},
          "execution_count": 29
        },
        {
          "output_type": "display_data",
          "data": {
            "text/plain": [
              "<Figure size 640x480 with 1 Axes>"
            ],
            "image/png": "[encoded data removed]"
          },
          "metadata": {}
        }
      ]
    },
    {
      "cell_type": "markdown",
      "source": [
        "# **LOSS,ACCURACY,PRECİSİON,RECALL METRİKLERİ'NİN DEĞERLENDİRİLMESİ**"
      ],
      "metadata": {
        "id": "VutfIYpLH9yi"
      }
    },
    {
      "cell_type": "code",
      "source": [
        "loss,precision,recall,accuracy = model.evaluate(x_test,y_test,verbose=False)\n",
        "\n",
        "print(\"\\nLoss : \",loss)\n",
        "\n",
        "print(\"\\nPrecision : \",precision)\n",
        "\n",
        "print(\"\\nRecall : \",recall)\n",
        "\n",
        "print(\"\\nAccuracy : \",accuracy)"
      ],
      "metadata": {
        "colab": {
          "base_uri": "https://localhost:8080/"
        },
        "id": "9r2gcOxTHeOc",
        "outputId": "30062afb-3d18-4dd4-8f33-6280e9b638c4"
      },
      "execution_count": null,
      "outputs": [
        {
          "output_type": "stream",
          "name": "stdout",
          "text": [
            "\n",
            "Loss :  0.12242533266544342\n",
            "\n",
            "Precision :  0.9810943007469177\n",
            "\n",
            "Recall :  0.9807999730110168\n",
            "\n",
            "Accuracy :  0.98089998960495\n"
          ]
        }
      ]
    },
    {
      "cell_type": "markdown",
      "source": [
        "# ***MODELE KAYDEDİLMESİ VE TAHMİN İÇİN KULLANILMASI***"
      ],
      "metadata": {
        "id": "Cj4SNITMEZIR"
      }
    },
    {
      "cell_type": "code",
      "source": [
        "model.save(\"mnist_model.h5\")"
      ],
      "metadata": {
        "id": "Vc5btloPEgJj"
      },
      "execution_count": null,
      "outputs": []
    },
    {
      "cell_type": "code",
      "source": [
        "import random\n",
        "\n",
        "random = random.randint(0,x_test.shape[0])\n",
        "\n",
        "random\n"
      ],
      "metadata": {
        "colab": {
          "base_uri": "https://localhost:8080/"
        },
        "id": "rP-I7ekgGY7i",
        "outputId": "f9903686-31a5-469f-ad56-c9481a82b2f5"
      },
      "execution_count": null,
      "outputs": [
        {
          "output_type": "execute_result",
          "data": {
            "text/plain": [
              "5106"
            ]
          },
          "metadata": {},
          "execution_count": 33
        }
      ]
    },
    {
      "cell_type": "code",
      "source": [
        "test_image = x_test[random]\n",
        "\n",
        "test_image"
      ],
      "metadata": {
        "colab": {
          "base_uri": "https://localhost:8080/"
        },
        "id": "xbyDFQ5PG38i",
        "outputId": "c7249950-3bf4-4f9a-fcac-4f224b594fd4"
      },
      "execution_count": null,
      "outputs": [
        {
          "output_type": "execute_result",
          "data": {
            "text/plain": [
              "array([[[0.        ],\n",
              "        [0.        ],\n",
              "        [0.        ],\n",
              "        [0.        ],\n",
              "        [0.        ],\n",
              "        [0.        ],\n",
              "        [0.        ],\n",
              "        [0.        ],\n",
              "        [0.        ],\n",
              "        [0.        ],\n",
              "        [0.        ],\n",
              "        [0.        ],\n",
              "        [0.        ],\n",
              "        [0.        ],\n",
              "        [0.        ],\n",
              "        [0.        ],\n",
              "        [0.        ],\n",
              "        [0.        ],\n",
              "        [0.        ],\n",
              "        [0.        ],\n",
              "        [0.        ],\n",
              "        [0.        ],\n",
              "        [0.        ],\n",
              "        [0.        ],\n",
              "        [0.        ],\n",
              "        [0.        ],\n",
              "        [0.        ],\n",
              "        [0.        ]],\n",
              "\n",
              "       [[0.        ],\n",
              "        [0.        ],\n",
              "        [0.        ],\n",
              "        [0.        ],\n",
              "        [0.        ],\n",
              "        [0.        ],\n",
              "        [0.        ],\n",
              "        [0.        ],\n",
              "        [0.        ],\n",
              "        [0.        ],\n",
              "        [0.        ],\n",
              "        [0.        ],\n",
              "        [0.        ],\n",
              "        [0.        ],\n",
              "        [0.        ],\n",
              "        [0.        ],\n",
              "        [0.        ],\n",
              "        [0.        ],\n",
              "        [0.        ],\n",
              "        [0.        ],\n",
              "        [0.        ],\n",
              "        [0.        ],\n",
              "        [0.        ],\n",
              "        [0.        ],\n",
              "        [0.        ],\n",
              "        [0.        ],\n",
              "        [0.        ],\n",
              "        [0.        ]],\n",
              "\n",
              "       [[0.        ],\n",
              "        [0.        ],\n",
              "        [0.        ],\n",
              "        [0.        ],\n",
              "        [0.        ],\n",
              "        [0.        ],\n",
              "        [0.        ],\n",
              "        [0.        ],\n",
              "        [0.        ],\n",
              "        [0.        ],\n",
              "        [0.        ],\n",
              "        [0.        ],\n",
              "        [0.        ],\n",
              "        [0.        ],\n",
              "        [0.        ],\n",
              "        [0.        ],\n",
              "        [0.        ],\n",
              "        [0.        ],\n",
              "        [0.        ],\n",
              "        [0.        ],\n",
              "        [0.        ],\n",
              "        [0.        ],\n",
              "        [0.        ],\n",
              "        [0.        ],\n",
              "        [0.        ],\n",
              "        [0.        ],\n",
              "        [0.        ],\n",
              "        [0.        ]],\n",
              "\n",
              "       [[0.        ],\n",
              "        [0.        ],\n",
              "        [0.        ],\n",
              "        [0.        ],\n",
              "        [0.        ],\n",
              "        [0.        ],\n",
              "        [0.        ],\n",
              "        [0.        ],\n",
              "        [0.        ],\n",
              "        [0.        ],\n",
              "        [0.        ],\n",
              "        [0.        ],\n",
              "        [0.        ],\n",
              "        [0.        ],\n",
              "        [0.        ],\n",
              "        [0.        ],\n",
              "        [0.        ],\n",
              "        [0.        ],\n",
              "        [0.        ],\n",
              "        [0.        ],\n",
              "        [0.        ],\n",
              "        [0.        ],\n",
              "        [0.        ],\n",
              "        [0.        ],\n",
              "        [0.        ],\n",
              "        [0.        ],\n",
              "        [0.        ],\n",
              "        [0.        ]],\n",
              "\n",
              "       [[0.        ],\n",
              "        [0.        ],\n",
              "        [0.        ],\n",
              "        [0.        ],\n",
              "        [0.        ],\n",
              "        [0.        ],\n",
              "        [0.        ],\n",
              "        [0.        ],\n",
              "        [0.        ],\n",
              "        [0.        ],\n",
              "        [0.        ],\n",
              "        [0.        ],\n",
              "        [0.        ],\n",
              "        [0.        ],\n",
              "        [0.        ],\n",
              "        [0.        ],\n",
              "        [0.        ],\n",
              "        [0.        ],\n",
              "        [0.        ],\n",
              "        [0.        ],\n",
              "        [0.        ],\n",
              "        [0.        ],\n",
              "        [0.        ],\n",
              "        [0.        ],\n",
              "        [0.        ],\n",
              "        [0.        ],\n",
              "        [0.        ],\n",
              "        [0.        ]],\n",
              "\n",
              "       [[0.        ],\n",
              "        [0.        ],\n",
              "        [0.        ],\n",
              "        [0.        ],\n",
              "        [0.        ],\n",
              "        [0.        ],\n",
              "        [0.        ],\n",
              "        [0.        ],\n",
              "        [0.        ],\n",
              "        [0.        ],\n",
              "        [0.        ],\n",
              "        [0.        ],\n",
              "        [0.        ],\n",
              "        [0.        ],\n",
              "        [0.        ],\n",
              "        [0.        ],\n",
              "        [0.        ],\n",
              "        [0.        ],\n",
              "        [0.        ],\n",
              "        [0.        ],\n",
              "        [0.        ],\n",
              "        [0.        ],\n",
              "        [0.        ],\n",
              "        [0.        ],\n",
              "        [0.        ],\n",
              "        [0.        ],\n",
              "        [0.        ],\n",
              "        [0.        ]],\n",
              "\n",
              "       [[0.        ],\n",
              "        [0.        ],\n",
              "        [0.        ],\n",
              "        [0.        ],\n",
              "        [0.        ],\n",
              "        [0.        ],\n",
              "        [0.        ],\n",
              "        [0.        ],\n",
              "        [0.        ],\n",
              "        [0.        ],\n",
              "        [0.        ],\n",
              "        [0.        ],\n",
              "        [0.        ],\n",
              "        [0.        ],\n",
              "        [0.        ],\n",
              "        [0.        ],\n",
              "        [0.05882353],\n",
              "        [0.09411765],\n",
              "        [0.25882354],\n",
              "        [0.7490196 ],\n",
              "        [0.95686275],\n",
              "        [0.4627451 ],\n",
              "        [0.02745098],\n",
              "        [0.        ],\n",
              "        [0.        ],\n",
              "        [0.        ],\n",
              "        [0.        ],\n",
              "        [0.        ]],\n",
              "\n",
              "       [[0.        ],\n",
              "        [0.        ],\n",
              "        [0.        ],\n",
              "        [0.        ],\n",
              "        [0.        ],\n",
              "        [0.        ],\n",
              "        [0.        ],\n",
              "        [0.        ],\n",
              "        [0.        ],\n",
              "        [0.        ],\n",
              "        [0.        ],\n",
              "        [0.        ],\n",
              "        [0.        ],\n",
              "        [0.        ],\n",
              "        [0.16862746],\n",
              "        [0.43137255],\n",
              "        [0.85882354],\n",
              "        [0.9882353 ],\n",
              "        [0.9882353 ],\n",
              "        [0.9882353 ],\n",
              "        [0.99215686],\n",
              "        [0.9882353 ],\n",
              "        [0.27058825],\n",
              "        [0.        ],\n",
              "        [0.        ],\n",
              "        [0.        ],\n",
              "        [0.        ],\n",
              "        [0.        ]],\n",
              "\n",
              "       [[0.        ],\n",
              "        [0.        ],\n",
              "        [0.        ],\n",
              "        [0.        ],\n",
              "        [0.        ],\n",
              "        [0.        ],\n",
              "        [0.        ],\n",
              "        [0.        ],\n",
              "        [0.        ],\n",
              "        [0.        ],\n",
              "        [0.        ],\n",
              "        [0.        ],\n",
              "        [0.3254902 ],\n",
              "        [0.72156864],\n",
              "        [0.9647059 ],\n",
              "        [0.99215686],\n",
              "        [0.9882353 ],\n",
              "        [0.9882353 ],\n",
              "        [0.9882353 ],\n",
              "        [0.8666667 ],\n",
              "        [0.99215686],\n",
              "        [0.9411765 ],\n",
              "        [0.19607843],\n",
              "        [0.        ],\n",
              "        [0.        ],\n",
              "        [0.        ],\n",
              "        [0.        ],\n",
              "        [0.        ]],\n",
              "\n",
              "       [[0.        ],\n",
              "        [0.        ],\n",
              "        [0.        ],\n",
              "        [0.        ],\n",
              "        [0.        ],\n",
              "        [0.        ],\n",
              "        [0.        ],\n",
              "        [0.        ],\n",
              "        [0.        ],\n",
              "        [0.        ],\n",
              "        [0.        ],\n",
              "        [0.31764707],\n",
              "        [0.9411765 ],\n",
              "        [0.9882353 ],\n",
              "        [0.9882353 ],\n",
              "        [0.9607843 ],\n",
              "        [0.627451  ],\n",
              "        [0.3019608 ],\n",
              "        [0.1764706 ],\n",
              "        [0.6313726 ],\n",
              "        [0.99215686],\n",
              "        [0.80784315],\n",
              "        [0.        ],\n",
              "        [0.        ],\n",
              "        [0.        ],\n",
              "        [0.        ],\n",
              "        [0.        ],\n",
              "        [0.        ]],\n",
              "\n",
              "       [[0.        ],\n",
              "        [0.        ],\n",
              "        [0.        ],\n",
              "        [0.        ],\n",
              "        [0.        ],\n",
              "        [0.        ],\n",
              "        [0.        ],\n",
              "        [0.        ],\n",
              "        [0.        ],\n",
              "        [0.20784314],\n",
              "        [0.90588236],\n",
              "        [0.95686275],\n",
              "        [0.9882353 ],\n",
              "        [0.6156863 ],\n",
              "        [0.33333334],\n",
              "        [0.08235294],\n",
              "        [0.        ],\n",
              "        [0.        ],\n",
              "        [0.53333336],\n",
              "        [0.98039216],\n",
              "        [0.99215686],\n",
              "        [0.6       ],\n",
              "        [0.        ],\n",
              "        [0.        ],\n",
              "        [0.        ],\n",
              "        [0.        ],\n",
              "        [0.        ],\n",
              "        [0.        ]],\n",
              "\n",
              "       [[0.        ],\n",
              "        [0.        ],\n",
              "        [0.        ],\n",
              "        [0.        ],\n",
              "        [0.        ],\n",
              "        [0.        ],\n",
              "        [0.        ],\n",
              "        [0.02745098],\n",
              "        [0.627451  ],\n",
              "        [0.99215686],\n",
              "        [1.        ],\n",
              "        [0.85490197],\n",
              "        [0.1254902 ],\n",
              "        [0.        ],\n",
              "        [0.        ],\n",
              "        [0.        ],\n",
              "        [0.        ],\n",
              "        [0.19215687],\n",
              "        [0.9137255 ],\n",
              "        [0.99215686],\n",
              "        [0.9490196 ],\n",
              "        [0.16470589],\n",
              "        [0.        ],\n",
              "        [0.        ],\n",
              "        [0.        ],\n",
              "        [0.        ],\n",
              "        [0.        ],\n",
              "        [0.        ]],\n",
              "\n",
              "       [[0.        ],\n",
              "        [0.        ],\n",
              "        [0.        ],\n",
              "        [0.        ],\n",
              "        [0.        ],\n",
              "        [0.        ],\n",
              "        [0.        ],\n",
              "        [0.5568628 ],\n",
              "        [0.9882353 ],\n",
              "        [0.9882353 ],\n",
              "        [0.85490197],\n",
              "        [0.12941177],\n",
              "        [0.        ],\n",
              "        [0.        ],\n",
              "        [0.        ],\n",
              "        [0.        ],\n",
              "        [0.11764706],\n",
              "        [0.89411765],\n",
              "        [0.9882353 ],\n",
              "        [0.9882353 ],\n",
              "        [0.81960785],\n",
              "        [0.        ],\n",
              "        [0.        ],\n",
              "        [0.        ],\n",
              "        [0.        ],\n",
              "        [0.        ],\n",
              "        [0.        ],\n",
              "        [0.        ]],\n",
              "\n",
              "       [[0.        ],\n",
              "        [0.        ],\n",
              "        [0.        ],\n",
              "        [0.        ],\n",
              "        [0.        ],\n",
              "        [0.        ],\n",
              "        [0.        ],\n",
              "        [0.72156864],\n",
              "        [0.9882353 ],\n",
              "        [0.9882353 ],\n",
              "        [0.1254902 ],\n",
              "        [0.        ],\n",
              "        [0.        ],\n",
              "        [0.        ],\n",
              "        [0.        ],\n",
              "        [0.19215687],\n",
              "        [0.77254903],\n",
              "        [0.9882353 ],\n",
              "        [0.9882353 ],\n",
              "        [0.9882353 ],\n",
              "        [0.1254902 ],\n",
              "        [0.        ],\n",
              "        [0.        ],\n",
              "        [0.        ],\n",
              "        [0.        ],\n",
              "        [0.        ],\n",
              "        [0.        ],\n",
              "        [0.        ]],\n",
              "\n",
              "       [[0.        ],\n",
              "        [0.        ],\n",
              "        [0.        ],\n",
              "        [0.        ],\n",
              "        [0.        ],\n",
              "        [0.        ],\n",
              "        [0.        ],\n",
              "        [0.72156864],\n",
              "        [0.9882353 ],\n",
              "        [0.9882353 ],\n",
              "        [0.        ],\n",
              "        [0.06666667],\n",
              "        [0.3647059 ],\n",
              "        [0.3647059 ],\n",
              "        [0.3647059 ],\n",
              "        [0.9137255 ],\n",
              "        [0.9882353 ],\n",
              "        [0.9882353 ],\n",
              "        [0.9882353 ],\n",
              "        [0.6156863 ],\n",
              "        [0.        ],\n",
              "        [0.        ],\n",
              "        [0.        ],\n",
              "        [0.        ],\n",
              "        [0.        ],\n",
              "        [0.        ],\n",
              "        [0.        ],\n",
              "        [0.        ]],\n",
              "\n",
              "       [[0.        ],\n",
              "        [0.        ],\n",
              "        [0.        ],\n",
              "        [0.        ],\n",
              "        [0.        ],\n",
              "        [0.        ],\n",
              "        [0.        ],\n",
              "        [0.72156864],\n",
              "        [0.9882353 ],\n",
              "        [0.9882353 ],\n",
              "        [0.90588236],\n",
              "        [0.91764706],\n",
              "        [0.9882353 ],\n",
              "        [0.9882353 ],\n",
              "        [0.9882353 ],\n",
              "        [0.99215686],\n",
              "        [0.9882353 ],\n",
              "        [0.9882353 ],\n",
              "        [0.9882353 ],\n",
              "        [0.1254902 ],\n",
              "        [0.        ],\n",
              "        [0.        ],\n",
              "        [0.        ],\n",
              "        [0.        ],\n",
              "        [0.        ],\n",
              "        [0.        ],\n",
              "        [0.        ],\n",
              "        [0.        ]],\n",
              "\n",
              "       [[0.        ],\n",
              "        [0.        ],\n",
              "        [0.        ],\n",
              "        [0.        ],\n",
              "        [0.        ],\n",
              "        [0.        ],\n",
              "        [0.        ],\n",
              "        [0.45490196],\n",
              "        [0.9764706 ],\n",
              "        [0.99215686],\n",
              "        [1.        ],\n",
              "        [0.99215686],\n",
              "        [0.96862745],\n",
              "        [0.9019608 ],\n",
              "        [0.94509804],\n",
              "        [1.        ],\n",
              "        [0.99215686],\n",
              "        [0.96862745],\n",
              "        [0.36862746],\n",
              "        [0.        ],\n",
              "        [0.        ],\n",
              "        [0.        ],\n",
              "        [0.        ],\n",
              "        [0.        ],\n",
              "        [0.        ],\n",
              "        [0.        ],\n",
              "        [0.        ],\n",
              "        [0.        ]],\n",
              "\n",
              "       [[0.        ],\n",
              "        [0.        ],\n",
              "        [0.        ],\n",
              "        [0.        ],\n",
              "        [0.        ],\n",
              "        [0.        ],\n",
              "        [0.        ],\n",
              "        [0.        ],\n",
              "        [0.29411766],\n",
              "        [0.76862746],\n",
              "        [0.8117647 ],\n",
              "        [0.5176471 ],\n",
              "        [0.2627451 ],\n",
              "        [0.        ],\n",
              "        [0.7411765 ],\n",
              "        [0.99215686],\n",
              "        [0.9882353 ],\n",
              "        [0.63529414],\n",
              "        [0.        ],\n",
              "        [0.        ],\n",
              "        [0.        ],\n",
              "        [0.        ],\n",
              "        [0.        ],\n",
              "        [0.        ],\n",
              "        [0.        ],\n",
              "        [0.        ],\n",
              "        [0.        ],\n",
              "        [0.        ]],\n",
              "\n",
              "       [[0.        ],\n",
              "        [0.        ],\n",
              "        [0.        ],\n",
              "        [0.        ],\n",
              "        [0.        ],\n",
              "        [0.        ],\n",
              "        [0.        ],\n",
              "        [0.        ],\n",
              "        [0.        ],\n",
              "        [0.        ],\n",
              "        [0.        ],\n",
              "        [0.        ],\n",
              "        [0.        ],\n",
              "        [0.10196079],\n",
              "        [0.9254902 ],\n",
              "        [0.99215686],\n",
              "        [0.85490197],\n",
              "        [0.07450981],\n",
              "        [0.        ],\n",
              "        [0.        ],\n",
              "        [0.        ],\n",
              "        [0.        ],\n",
              "        [0.        ],\n",
              "        [0.        ],\n",
              "        [0.        ],\n",
              "        [0.        ],\n",
              "        [0.        ],\n",
              "        [0.        ]],\n",
              "\n",
              "       [[0.        ],\n",
              "        [0.        ],\n",
              "        [0.        ],\n",
              "        [0.        ],\n",
              "        [0.        ],\n",
              "        [0.        ],\n",
              "        [0.        ],\n",
              "        [0.        ],\n",
              "        [0.        ],\n",
              "        [0.        ],\n",
              "        [0.        ],\n",
              "        [0.        ],\n",
              "        [0.10196079],\n",
              "        [0.79607844],\n",
              "        [0.9882353 ],\n",
              "        [0.99215686],\n",
              "        [0.6431373 ],\n",
              "        [0.        ],\n",
              "        [0.        ],\n",
              "        [0.        ],\n",
              "        [0.        ],\n",
              "        [0.        ],\n",
              "        [0.        ],\n",
              "        [0.        ],\n",
              "        [0.        ],\n",
              "        [0.        ],\n",
              "        [0.        ],\n",
              "        [0.        ]],\n",
              "\n",
              "       [[0.        ],\n",
              "        [0.        ],\n",
              "        [0.        ],\n",
              "        [0.        ],\n",
              "        [0.        ],\n",
              "        [0.        ],\n",
              "        [0.        ],\n",
              "        [0.        ],\n",
              "        [0.        ],\n",
              "        [0.        ],\n",
              "        [0.        ],\n",
              "        [0.        ],\n",
              "        [0.27450982],\n",
              "        [0.9882353 ],\n",
              "        [0.9882353 ],\n",
              "        [0.9098039 ],\n",
              "        [0.03137255],\n",
              "        [0.        ],\n",
              "        [0.        ],\n",
              "        [0.        ],\n",
              "        [0.        ],\n",
              "        [0.        ],\n",
              "        [0.        ],\n",
              "        [0.        ],\n",
              "        [0.        ],\n",
              "        [0.        ],\n",
              "        [0.        ],\n",
              "        [0.        ]],\n",
              "\n",
              "       [[0.        ],\n",
              "        [0.        ],\n",
              "        [0.        ],\n",
              "        [0.        ],\n",
              "        [0.        ],\n",
              "        [0.        ],\n",
              "        [0.        ],\n",
              "        [0.        ],\n",
              "        [0.        ],\n",
              "        [0.        ],\n",
              "        [0.        ],\n",
              "        [0.10196079],\n",
              "        [0.87058824],\n",
              "        [0.99215686],\n",
              "        [0.99215686],\n",
              "        [0.41568628],\n",
              "        [0.        ],\n",
              "        [0.        ],\n",
              "        [0.        ],\n",
              "        [0.        ],\n",
              "        [0.        ],\n",
              "        [0.        ],\n",
              "        [0.        ],\n",
              "        [0.        ],\n",
              "        [0.        ],\n",
              "        [0.        ],\n",
              "        [0.        ],\n",
              "        [0.        ]],\n",
              "\n",
              "       [[0.        ],\n",
              "        [0.        ],\n",
              "        [0.        ],\n",
              "        [0.        ],\n",
              "        [0.        ],\n",
              "        [0.        ],\n",
              "        [0.        ],\n",
              "        [0.        ],\n",
              "        [0.        ],\n",
              "        [0.        ],\n",
              "        [0.        ],\n",
              "        [0.47058824],\n",
              "        [0.9882353 ],\n",
              "        [0.9882353 ],\n",
              "        [0.41568628],\n",
              "        [0.        ],\n",
              "        [0.        ],\n",
              "        [0.        ],\n",
              "        [0.        ],\n",
              "        [0.        ],\n",
              "        [0.        ],\n",
              "        [0.        ],\n",
              "        [0.        ],\n",
              "        [0.        ],\n",
              "        [0.        ],\n",
              "        [0.        ],\n",
              "        [0.        ],\n",
              "        [0.        ]],\n",
              "\n",
              "       [[0.        ],\n",
              "        [0.        ],\n",
              "        [0.        ],\n",
              "        [0.        ],\n",
              "        [0.        ],\n",
              "        [0.        ],\n",
              "        [0.        ],\n",
              "        [0.        ],\n",
              "        [0.        ],\n",
              "        [0.        ],\n",
              "        [0.06666667],\n",
              "        [0.89411765],\n",
              "        [0.9882353 ],\n",
              "        [0.6       ],\n",
              "        [0.02352941],\n",
              "        [0.        ],\n",
              "        [0.        ],\n",
              "        [0.        ],\n",
              "        [0.        ],\n",
              "        [0.        ],\n",
              "        [0.        ],\n",
              "        [0.        ],\n",
              "        [0.        ],\n",
              "        [0.        ],\n",
              "        [0.        ],\n",
              "        [0.        ],\n",
              "        [0.        ],\n",
              "        [0.        ]],\n",
              "\n",
              "       [[0.        ],\n",
              "        [0.        ],\n",
              "        [0.        ],\n",
              "        [0.        ],\n",
              "        [0.        ],\n",
              "        [0.        ],\n",
              "        [0.        ],\n",
              "        [0.        ],\n",
              "        [0.        ],\n",
              "        [0.        ],\n",
              "        [0.25882354],\n",
              "        [0.9882353 ],\n",
              "        [0.7647059 ],\n",
              "        [0.03529412],\n",
              "        [0.        ],\n",
              "        [0.        ],\n",
              "        [0.        ],\n",
              "        [0.        ],\n",
              "        [0.        ],\n",
              "        [0.        ],\n",
              "        [0.        ],\n",
              "        [0.        ],\n",
              "        [0.        ],\n",
              "        [0.        ],\n",
              "        [0.        ],\n",
              "        [0.        ],\n",
              "        [0.        ],\n",
              "        [0.        ]],\n",
              "\n",
              "       [[0.        ],\n",
              "        [0.        ],\n",
              "        [0.        ],\n",
              "        [0.        ],\n",
              "        [0.        ],\n",
              "        [0.        ],\n",
              "        [0.        ],\n",
              "        [0.        ],\n",
              "        [0.        ],\n",
              "        [0.        ],\n",
              "        [0.13333334],\n",
              "        [0.9882353 ],\n",
              "        [0.7176471 ],\n",
              "        [0.        ],\n",
              "        [0.        ],\n",
              "        [0.        ],\n",
              "        [0.        ],\n",
              "        [0.        ],\n",
              "        [0.        ],\n",
              "        [0.        ],\n",
              "        [0.        ],\n",
              "        [0.        ],\n",
              "        [0.        ],\n",
              "        [0.        ],\n",
              "        [0.        ],\n",
              "        [0.        ],\n",
              "        [0.        ],\n",
              "        [0.        ]],\n",
              "\n",
              "       [[0.        ],\n",
              "        [0.        ],\n",
              "        [0.        ],\n",
              "        [0.        ],\n",
              "        [0.        ],\n",
              "        [0.        ],\n",
              "        [0.        ],\n",
              "        [0.        ],\n",
              "        [0.        ],\n",
              "        [0.        ],\n",
              "        [0.        ],\n",
              "        [0.        ],\n",
              "        [0.        ],\n",
              "        [0.        ],\n",
              "        [0.        ],\n",
              "        [0.        ],\n",
              "        [0.        ],\n",
              "        [0.        ],\n",
              "        [0.        ],\n",
              "        [0.        ],\n",
              "        [0.        ],\n",
              "        [0.        ],\n",
              "        [0.        ],\n",
              "        [0.        ],\n",
              "        [0.        ],\n",
              "        [0.        ],\n",
              "        [0.        ],\n",
              "        [0.        ]],\n",
              "\n",
              "       [[0.        ],\n",
              "        [0.        ],\n",
              "        [0.        ],\n",
              "        [0.        ],\n",
              "        [0.        ],\n",
              "        [0.        ],\n",
              "        [0.        ],\n",
              "        [0.        ],\n",
              "        [0.        ],\n",
              "        [0.        ],\n",
              "        [0.        ],\n",
              "        [0.        ],\n",
              "        [0.        ],\n",
              "        [0.        ],\n",
              "        [0.        ],\n",
              "        [0.        ],\n",
              "        [0.        ],\n",
              "        [0.        ],\n",
              "        [0.        ],\n",
              "        [0.        ],\n",
              "        [0.        ],\n",
              "        [0.        ],\n",
              "        [0.        ],\n",
              "        [0.        ],\n",
              "        [0.        ],\n",
              "        [0.        ],\n",
              "        [0.        ],\n",
              "        [0.        ]]], dtype=float32)"
            ]
          },
          "metadata": {},
          "execution_count": 37
        }
      ]
    },
    {
      "cell_type": "code",
      "source": [
        "plt.imshow(test_image.reshape(28,28),cmap=\"gray\")"
      ],
      "metadata": {
        "colab": {
          "base_uri": "https://localhost:8080/",
          "height": 447
        },
        "id": "FDBm8Mx9HYrm",
        "outputId": "280b672e-67d4-4b25-dbe7-8be9af4ce629"
      },
      "execution_count": null,
      "outputs": [
        {
          "output_type": "execute_result",
          "data": {
            "text/plain": [
              "<matplotlib.image.AxesImage at 0x7d379a1eceb0>"
            ]
          },
          "metadata": {},
          "execution_count": 38
        },
        {
          "output_type": "display_data",
          "data": {
            "text/plain": [
              "<Figure size 640x480 with 1 Axes>"
            ],
            "image/png": "[encoded data removed]"
          },
          "metadata": {}
        }
      ]
    },
    {
      "cell_type": "code",
      "source": [
        "test_data = x_test[random].reshape(1,28,28,1)"
      ],
      "metadata": {
        "id": "_CYSezurHgiu"
      },
      "execution_count": null,
      "outputs": []
    },
    {
      "cell_type": "code",
      "source": [
        "predictability = model.predict(test_data)"
      ],
      "metadata": {
        "colab": {
          "base_uri": "https://localhost:8080/"
        },
        "id": "55F4YlhUHyip",
        "outputId": "9a84aaeb-608f-4535-ab6d-293c201f8d8d"
      },
      "execution_count": null,
      "outputs": [
        {
          "output_type": "stream",
          "name": "stdout",
          "text": [
            "\u001b[1m1/1\u001b[0m \u001b[32m━━━━━━━━━━━━━━━━━━━━\u001b[0m\u001b[37m\u001b[0m \u001b[1m0s\u001b[0m 75ms/step\n"
          ]
        }
      ]
    },
    {
      "cell_type": "code",
      "source": [
        "predictability"
      ],
      "metadata": {
        "colab": {
          "base_uri": "https://localhost:8080/"
        },
        "id": "Nevbo1l6H623",
        "outputId": "7ead9655-1436-45bb-b4e3-50bb7c10397c"
      },
      "execution_count": null,
      "outputs": [
        {
          "output_type": "execute_result",
          "data": {
            "text/plain": [
              "array([[7.8491137e-25, 3.1529534e-35, 3.2940317e-22, 1.0796218e-22,\n",
              "        1.3426777e-12, 8.0929414e-22, 1.4265568e-28, 1.4039177e-17,\n",
              "        7.2396736e-15, 1.0000000e+00]], dtype=float32)"
            ]
          },
          "metadata": {},
          "execution_count": 41
        }
      ]
    },
    {
      "cell_type": "code",
      "source": [
        "predicted_class = np.argmax(predictability)"
      ],
      "metadata": {
        "id": "MaaaS7goIDGN"
      },
      "execution_count": null,
      "outputs": []
    },
    {
      "cell_type": "code",
      "source": [
        "predicted_class"
      ],
      "metadata": {
        "colab": {
          "base_uri": "https://localhost:8080/"
        },
        "id": "ALNj6LTsIHFo",
        "outputId": "e3375615-2622-4666-e48a-9f7ada348518"
      },
      "execution_count": null,
      "outputs": [
        {
          "output_type": "execute_result",
          "data": {
            "text/plain": [
              "9"
            ]
          },
          "metadata": {},
          "execution_count": 43
        }
      ]
    },
    {
      "cell_type": "code",
      "source": [
        "print(f\"TAHMİN EDİLEN SINIF : {predicted_class}\\n\")\n",
        "\n",
        "print(f\"TAHMİN EDİLEN SINIFIN OLASILIK DEĞERİ : {predictability[0][predicted_class]} \\n\")\n",
        "# Access the probability value from predictability using predicted_class as the index.\n",
        "\n",
        "print(f\"DİĞER SINIFLARIN OLASILIK DEĞERLERİ : \\n {predictability}\")"
      ],
      "metadata": {
        "colab": {
          "base_uri": "https://localhost:8080/"
        },
        "id": "n-ZFK8XoIQ9p",
        "outputId": "37a38826-c048-4316-9934-90c7c111db4c"
      },
      "execution_count": null,
      "outputs": [
        {
          "output_type": "stream",
          "name": "stdout",
          "text": [
            "TAHMİN EDİLEN SINIF : 9\n",
            "\n",
            "TAHMİN EDİLEN SINIFIN OLASILIK DEĞERİ : 1.0 \n",
            "\n",
            "DİĞER SINIFLARIN OLASILIK DEĞERLERİ : \n",
            " [[7.8491137e-25 3.1529534e-35 3.2940317e-22 1.0796218e-22 1.3426777e-12\n",
            "  8.0929414e-22 1.4265568e-28 1.4039177e-17 7.2396736e-15 1.0000000e+00]]\n"
          ]
        }
      ]
    },
    {
      "cell_type": "markdown",
      "source": [],
      "metadata": {
        "id": "tWV8mIaRI53D"
      }
    }
  ]
}